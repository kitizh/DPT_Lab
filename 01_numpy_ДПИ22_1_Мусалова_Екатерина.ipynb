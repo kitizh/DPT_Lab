{
  "cells": [
    {
      "cell_type": "markdown",
      "metadata": {
        "id": "SosEZ47Uw0ss"
      },
      "source": [
        "# Numpy"
      ]
    },
    {
      "cell_type": "markdown",
      "metadata": {
        "id": "LXjW9QlYw0tR"
      },
      "source": [
        "## Лабораторная работа №1"
      ]
    },
    {
      "cell_type": "markdown",
      "metadata": {
        "id": "QZ7qmIM_w0tS"
      },
      "source": [
        "Замечание: при решении данных задач не подразумевается использования циклов или генераторов Python, если в задании не сказано обратного. Решение должно опираться на использования функционала библиотеки `numpy`."
      ]
    },
    {
      "cell_type": "code",
      "source": [
        "import numpy as np"
      ],
      "metadata": {
        "id": "9G7C2hXEKzom"
      },
      "execution_count": null,
      "outputs": []
    },
    {
      "cell_type": "markdown",
      "metadata": {
        "id": "dYoFUpO-w0tS"
      },
      "source": [
        "1. Файл `minutes_n_ingredients.csv` содержит информацию об идентификаторе рецепта, времени его выполнения в минутах и количестве необходимых ингредиентов. Считайте данные из этого файла в виде массива `numpy` типа `int32`, используя `np.loadtxt`. Выведите на экран первые 5 строк массива."
      ]
    },
    {
      "cell_type": "code",
      "source": [
        "base = np.loadtxt('minutes_n_ingredients.csv', skiprows=1, delimiter=',', dtype=np.int32)\n",
        "print(base[:5, :])"
      ],
      "metadata": {
        "id": "I2ZnEQYI1KEb",
        "colab": {
          "base_uri": "https://localhost:8080/"
        },
        "outputId": "5eec7ff7-a45c-474f-ac68-ff87dc58ad19"
      },
      "execution_count": null,
      "outputs": [
        {
          "output_type": "stream",
          "name": "stdout",
          "text": [
            "[[127244     60     16]\n",
            " [ 23891     25      7]\n",
            " [ 94746     10      6]\n",
            " [ 67660      5      6]\n",
            " [157911     60     14]]\n"
          ]
        }
      ]
    },
    {
      "cell_type": "markdown",
      "metadata": {
        "id": "riVfUy5zw0tT"
      },
      "source": [
        "2. Вычислите среднее значение, минимум, максимум и медиану по каждому из столбцов, кроме первого."
      ]
    },
    {
      "cell_type": "code",
      "source": [
        "rec_mean = np.mean(base[:, 1:], axis=0)\n",
        "print(rec_mean)"
      ],
      "metadata": {
        "colab": {
          "base_uri": "https://localhost:8080/"
        },
        "id": "Y4KVBdEN5QEy",
        "outputId": "888fcfce-2b9d-4d86-8d6d-969bca061ca7"
      },
      "execution_count": null,
      "outputs": [
        {
          "output_type": "stream",
          "name": "stdout",
          "text": [
            "[2.16010017e+04 9.05528000e+00]\n"
          ]
        }
      ]
    },
    {
      "cell_type": "code",
      "source": [
        "rec_min = np.amin(base[:, 1:], axis=0)\n",
        "print(rec_min)"
      ],
      "metadata": {
        "colab": {
          "base_uri": "https://localhost:8080/"
        },
        "id": "UsScZuhkAs0z",
        "outputId": "259e5728-009c-474d-c0e4-e18e19831bec"
      },
      "execution_count": null,
      "outputs": [
        {
          "output_type": "stream",
          "name": "stdout",
          "text": [
            "[0 1]\n"
          ]
        }
      ]
    },
    {
      "cell_type": "code",
      "source": [
        "rec_max = np.amax(base[:, 1:], axis=0)\n",
        "print(rec_max)"
      ],
      "metadata": {
        "colab": {
          "base_uri": "https://localhost:8080/"
        },
        "id": "rcFJe6zrA0Gk",
        "outputId": "4d9e5c54-6bc7-4932-b6ee-c07379dfff5a"
      },
      "execution_count": null,
      "outputs": [
        {
          "output_type": "stream",
          "name": "stdout",
          "text": [
            "[2147483647         39]\n"
          ]
        }
      ]
    },
    {
      "cell_type": "code",
      "source": [
        "rec_median = np.median(base[:, 1:], axis=0)\n",
        "print(rec_median)"
      ],
      "metadata": {
        "colab": {
          "base_uri": "https://localhost:8080/"
        },
        "id": "ih4j_MKLA3SD",
        "outputId": "a04e19f2-1bfa-4bb4-c768-510ee02d29ea"
      },
      "execution_count": null,
      "outputs": [
        {
          "output_type": "stream",
          "name": "stdout",
          "text": [
            "[40.  9.]\n"
          ]
        }
      ]
    },
    {
      "cell_type": "markdown",
      "metadata": {
        "id": "y77sMpPCw0tT"
      },
      "source": [
        "3. Ограничьте сверху значения продолжительности выполнения рецепта значением квантиля $q_{0.75}$. "
      ]
    },
    {
      "cell_type": "code",
      "source": [
        "q = np.quantile(base[:, 1], 0.75)\n",
        "print(q)"
      ],
      "metadata": {
        "colab": {
          "base_uri": "https://localhost:8080/"
        },
        "id": "hzF3C1xxDcbr",
        "outputId": "cbaec073-6822-44fa-f179-41daacc3db8c"
      },
      "execution_count": null,
      "outputs": [
        {
          "output_type": "stream",
          "name": "stdout",
          "text": [
            "65.0\n"
          ]
        }
      ]
    },
    {
      "cell_type": "code",
      "source": [
        "base[:,1] = np.clip(base[:, 1], None, q)"
      ],
      "metadata": {
        "id": "RXBU5dV6RGcT"
      },
      "execution_count": null,
      "outputs": []
    },
    {
      "cell_type": "code",
      "source": [
        "# вывод итогового массива\n",
        "print(base)"
      ],
      "metadata": {
        "colab": {
          "base_uri": "https://localhost:8080/"
        },
        "id": "cqE7q5eJTTQY",
        "outputId": "207f352b-2a78-4df7-e116-562cbc74d3bd"
      },
      "execution_count": null,
      "outputs": [
        {
          "output_type": "stream",
          "name": "stdout",
          "text": [
            "[[127244     60     16]\n",
            " [ 23891     25      7]\n",
            " [ 94746     10      6]\n",
            " ...\n",
            " [498432     65     15]\n",
            " [370915      5      4]\n",
            " [ 81993     65     14]]\n"
          ]
        }
      ]
    },
    {
      "cell_type": "markdown",
      "metadata": {
        "id": "IGB73Culw0tT"
      },
      "source": [
        "4. Посчитайте, для скольких рецептов указана продолжительность, равная нулю. Замените для таких строк значение в данном столбце на 1."
      ]
    },
    {
      "cell_type": "code",
      "source": [
        "equal_zero = np.count_nonzero(base[:,1]==0)\n",
        "print(equal_zero)"
      ],
      "metadata": {
        "colab": {
          "base_uri": "https://localhost:8080/"
        },
        "id": "6bU0Zj3yF6_o",
        "outputId": "2e5b27e6-a806-4780-d0af-5809117cafc0"
      },
      "execution_count": null,
      "outputs": [
        {
          "output_type": "stream",
          "name": "stdout",
          "text": [
            "479\n"
          ]
        }
      ]
    },
    {
      "cell_type": "code",
      "source": [
        "base[:,1][base[:,1] == 0] = 1\n",
        "# вывод измененного массива\n",
        "print(base) \n",
        "# вывод количества строк с 0 продолжительностью\n",
        "print(np.count_nonzero(base[:,1]==0))"
      ],
      "metadata": {
        "colab": {
          "base_uri": "https://localhost:8080/"
        },
        "id": "VTBb_TTxI-E9",
        "outputId": "a9b16c8a-58be-4ac7-fbcb-567a327ecf28"
      },
      "execution_count": null,
      "outputs": [
        {
          "output_type": "stream",
          "name": "stdout",
          "text": [
            "[[127244     60     16]\n",
            " [ 23891     25      7]\n",
            " [ 94746     10      6]\n",
            " ...\n",
            " [498432     65     15]\n",
            " [370915      5      4]\n",
            " [ 81993     65     14]]\n",
            "0\n"
          ]
        }
      ]
    },
    {
      "cell_type": "markdown",
      "metadata": {
        "id": "v9eVJUevw0tU"
      },
      "source": [
        "5. Посчитайте, сколько уникальных рецептов находится в датасете."
      ]
    },
    {
      "cell_type": "code",
      "source": [
        "num_unique = len(np.unique(base[:,:], axis=0))\n",
        "print(num_unique)\n",
        "# так как все id различны - рассматриваем 2 и 3 столбцы\n",
        "num_unique = len(np.unique(base[:,1:], axis=0))\n",
        "print(num_unique)"
      ],
      "metadata": {
        "colab": {
          "base_uri": "https://localhost:8080/"
        },
        "id": "J3OduJQKJ5Kx",
        "outputId": "c30ee2e9-3a1e-4fda-e436-9db00b783734"
      },
      "execution_count": null,
      "outputs": [
        {
          "output_type": "stream",
          "name": "stdout",
          "text": [
            "100000\n",
            "1135\n"
          ]
        }
      ]
    },
    {
      "cell_type": "markdown",
      "metadata": {
        "id": "nnMit8mnw0tU"
      },
      "source": [
        "6. Сколько и каких различных значений кол-ва ингредиентов присутвует в рецептах из датасета?"
      ]
    },
    {
      "cell_type": "code",
      "source": [
        "n_ingridiens, n_n = np.unique(base[:,2], return_counts=True)\n",
        "# можно вывести и так, но этот вывод удобнее\n",
        "unique_ingridients = np.full((len(n_ingridiens), 2), 0, dtype=np.int32)\n",
        "unique_ingridients[:,0] = n_ingridiens\n",
        "unique_ingridients[:,1] = n_n\n",
        "print(unique_ingridients)"
      ],
      "metadata": {
        "colab": {
          "base_uri": "https://localhost:8080/"
        },
        "id": "noidv6lOMS5F",
        "outputId": "a7cbb06f-3b42-4c44-8466-9732e2bdb1c7"
      },
      "execution_count": null,
      "outputs": [
        {
          "output_type": "stream",
          "name": "stdout",
          "text": [
            "[[    1    13]\n",
            " [    2   926]\n",
            " [    3  2895]\n",
            " [    4  5515]\n",
            " [    5  7913]\n",
            " [    6  9376]\n",
            " [    7 10628]\n",
            " [    8 10951]\n",
            " [    9 10585]\n",
            " [   10  9591]\n",
            " [   11  8297]\n",
            " [   12  6605]\n",
            " [   13  4997]\n",
            " [   14  3663]\n",
            " [   15  2595]\n",
            " [   16  1767]\n",
            " [   17  1246]\n",
            " [   18   790]\n",
            " [   19   573]\n",
            " [   20   376]\n",
            " [   21   217]\n",
            " [   22   161]\n",
            " [   23   105]\n",
            " [   24    69]\n",
            " [   25    50]\n",
            " [   26    28]\n",
            " [   27    16]\n",
            " [   28    16]\n",
            " [   29    12]\n",
            " [   30    12]\n",
            " [   31     3]\n",
            " [   32     1]\n",
            " [   33     2]\n",
            " [   34     1]\n",
            " [   35     3]\n",
            " [   37     1]\n",
            " [   39     1]]\n"
          ]
        }
      ]
    },
    {
      "cell_type": "markdown",
      "metadata": {
        "id": "HO_gGeBiw0tV"
      },
      "source": [
        "7. Создайте версию массива, содержащую информацию только о рецептах, состоящих не более чем из 5 ингредиентов."
      ]
    },
    {
      "cell_type": "code",
      "source": [
        "new = base\n",
        "res = new[new[:,2] <= 5]\n",
        "# вывод размера измененного массива\n",
        "print(res.shape)\n",
        "# вывод измененного массива\n",
        "print(res)"
      ],
      "metadata": {
        "colab": {
          "base_uri": "https://localhost:8080/"
        },
        "id": "95eSPoBdNFOM",
        "outputId": "3a3d073d-4d81-436f-ea5a-bb5d52fc30a7"
      },
      "execution_count": null,
      "outputs": [
        {
          "output_type": "stream",
          "name": "stdout",
          "text": [
            "(17262, 3)\n",
            "[[446597     15      5]\n",
            " [204134      5      3]\n",
            " [ 25623      6      4]\n",
            " ...\n",
            " [ 52088     60      5]\n",
            " [128811     15      4]\n",
            " [370915      5      4]]\n"
          ]
        }
      ]
    },
    {
      "cell_type": "markdown",
      "metadata": {
        "id": "-o0ltM_ww0tV"
      },
      "source": [
        "8. Для каждого рецепта посчитайте, сколько в среднем ингредиентов приходится на одну минуту рецепта. Найдите максимальное значение этой величины для всего датасета"
      ]
    },
    {
      "cell_type": "code",
      "source": [
        "ar_minutes = base[:, 1]\n",
        "ar_ingridients = base[:, 2]\n",
        "ar_divided = np.divide(ar_ingridients, ar_minutes)\n",
        "# print(ar_divided)\n",
        "divided = np.sort(ar_divided)\n",
        "print(divided[-1])"
      ],
      "metadata": {
        "colab": {
          "base_uri": "https://localhost:8080/"
        },
        "id": "iT28HCW7PR8F",
        "outputId": "d557188d-5d5d-4d64-dffe-70d2333e0f67"
      },
      "execution_count": null,
      "outputs": [
        {
          "output_type": "stream",
          "name": "stdout",
          "text": [
            "24.0\n"
          ]
        }
      ]
    },
    {
      "cell_type": "markdown",
      "metadata": {
        "id": "2hA_BflQw0tW"
      },
      "source": [
        "9. Вычислите среднее количество ингредиентов для топ-100 рецептов с наибольшей продолжительностью"
      ]
    },
    {
      "cell_type": "code",
      "source": [
        "minutes_sorted = base[base[:, 1].argsort()]\n",
        "top_100 = minutes_sorted[-100:, :]\n",
        "np.mean(top_100[:, 2])"
      ],
      "metadata": {
        "colab": {
          "base_uri": "https://localhost:8080/"
        },
        "id": "C1MXpwyxA_5K",
        "outputId": "5dcd4c79-3b45-43b8-98e6-75908024a412"
      },
      "execution_count": null,
      "outputs": [
        {
          "output_type": "execute_result",
          "data": {
            "text/plain": [
              "9.96"
            ]
          },
          "metadata": {},
          "execution_count": 80
        }
      ]
    },
    {
      "cell_type": "markdown",
      "metadata": {
        "id": "Yy8sxFFXw0tW"
      },
      "source": [
        "10. Выберите случайным образом и выведите информацию о 10 различных рецептах"
      ]
    },
    {
      "cell_type": "code",
      "source": [
        "ids = np.random.choice(base[:,0], size=10, replace=False)\n",
        "mask = np.isin(base[:,0], ids)\n",
        "print(base[mask])"
      ],
      "metadata": {
        "colab": {
          "base_uri": "https://localhost:8080/"
        },
        "id": "gQ-YjJSVDrHx",
        "outputId": "218fae83-11e6-4649-fd42-82b9466c7af4"
      },
      "execution_count": null,
      "outputs": [
        {
          "output_type": "stream",
          "name": "stdout",
          "text": [
            "[[144665     65      7]\n",
            " [322349      2      5]\n",
            " [312370     25     13]\n",
            " [203931     25      5]\n",
            " [111813     65      6]\n",
            " [115765     65      8]\n",
            " [267142      5      9]\n",
            " [263742     15     12]\n",
            " [230014     60     10]\n",
            " [148743     65     10]]\n"
          ]
        }
      ]
    },
    {
      "cell_type": "markdown",
      "metadata": {
        "id": "mdF9wpDZw0tX"
      },
      "source": [
        "11. Выведите процент рецептов, кол-во ингредиентов в которых меньше среднего."
      ]
    },
    {
      "cell_type": "code",
      "source": [
        "less_mean = np.count_nonzero(base[:,2] < rec_mean[1])\n",
        "percent_less_mean = less_mean / len(base[:,2]) * 100\n",
        "print(percent_less_mean)"
      ],
      "metadata": {
        "colab": {
          "base_uri": "https://localhost:8080/"
        },
        "id": "DgOj7_DSJTUp",
        "outputId": "5cbb351f-635c-4bb5-cac4-d77e2a29e93d"
      },
      "execution_count": null,
      "outputs": [
        {
          "output_type": "stream",
          "name": "stdout",
          "text": [
            "58.802\n"
          ]
        }
      ]
    },
    {
      "cell_type": "markdown",
      "metadata": {
        "id": "pE8d32Lqw0tX"
      },
      "source": [
        "12. Назовем \"простым\" такой рецепт, длительность выполнения которого не больше 20 минут и кол-во ингредиентов в котором не больше 5. Создайте версию датасета с дополнительным столбцом, значениями которого являются 1, если рецепт простой, и 0 в противном случае."
      ]
    },
    {
      "cell_type": "code",
      "source": [
        "show_easy = np.full((len(base[:,1]), 4), 0, dtype=np.int32)\n",
        "show_easy[:, :3] = base;\n",
        "show_easy[:, 3] = np.where((show_easy[:, 1]<=20) & (show_easy[:, 2] <= 5), 1, 0)\n",
        "# вывод массива со значениями простого/сложного рецептов\n",
        "print(show_easy)\n",
        "# вывод количества простых рецeптов\n",
        "easy_number = np.count_nonzero(show_easy[:,3]==1)\n",
        "print(easy_number)"
      ],
      "metadata": {
        "colab": {
          "base_uri": "https://localhost:8080/"
        },
        "id": "Q2EJpNA_bkZe",
        "outputId": "b100d938-acce-4dc2-80b8-c93ee20bf9b0"
      },
      "execution_count": null,
      "outputs": [
        {
          "output_type": "stream",
          "name": "stdout",
          "text": [
            "[[127244     60     16      0]\n",
            " [ 23891     25      7      0]\n",
            " [ 94746     10      6      0]\n",
            " ...\n",
            " [498432     65     15      0]\n",
            " [370915      5      4      1]\n",
            " [ 81993     65     14      0]]\n",
            "9552\n"
          ]
        }
      ]
    },
    {
      "cell_type": "markdown",
      "metadata": {
        "id": "2nB8clg7w0tY"
      },
      "source": [
        "13. Выведите процент \"простых\" рецептов в датасете"
      ]
    },
    {
      "cell_type": "code",
      "source": [
        "percent_easy = easy_number / len(base[:,2]) * 100\n",
        "print(percent_easy)"
      ],
      "metadata": {
        "colab": {
          "base_uri": "https://localhost:8080/"
        },
        "id": "BSIMHGTAgq5D",
        "outputId": "0a7fdabc-6fc8-4c74-9326-6b51570e67ac"
      },
      "execution_count": null,
      "outputs": [
        {
          "output_type": "stream",
          "name": "stdout",
          "text": [
            "9.552\n"
          ]
        }
      ]
    },
    {
      "cell_type": "markdown",
      "metadata": {
        "id": "HBCZP9BGw0tY"
      },
      "source": [
        "14. Разделим рецепты на группы по следующему правилу. Назовем рецепты короткими, если их продолжительность составляет менее 10 минут; стандартными, если их продолжительность составляет более 10, но менее 20 минут; и длинными, если их продолжительность составляет не менее 20 минут. Создайте трехмерный массив, где нулевая ось отвечает за номер группы (короткий, стандартный или длинный рецепт), первая ось - за сам рецепт и вторая ось - за характеристики рецепта. Выберите максимальное количество рецептов из каждой группы таким образом, чтобы было возможно сформировать трехмерный массив. Выведите форму полученного массива."
      ]
    },
    {
      "cell_type": "code",
      "source": [
        "show_shortness = np.full((len(base[:,1]), 6), 0, dtype=np.int32)\n",
        "show_shortness[:, :3] = base;\n",
        "show_shortness[:, 3] = np.where((show_shortness[:, 1]<10), 1, 0)\n",
        "show_shortness[:, 4] = np.where((show_shortness[:, 1] >= 10) & (show_shortness[:, 1] < 20), 1, 0)\n",
        "show_shortness[:, 5] = np.where((show_shortness[:, 1]>=20), 1, 0)\n",
        "# вывод массива,где столбец 4 - значения меньше 10, 5 - от 10 до 20, 6 - от 20\n",
        "#print(show_shortness)\n",
        "groups_amount = np.zeros(3)\n",
        "#считаем количество элементов в каждой группе\n",
        "groups_amount[0] = np.count_nonzero(show_shortness[:,3]==1)\n",
        "groups_amount[1] = np.count_nonzero(show_shortness[:,4]==1)\n",
        "groups_amount[2] = np.count_nonzero(show_shortness[:,5]==1)\n",
        "# сортируем список. нулевой элемент - наименьший\n",
        "groups_amount = groups_amount[groups_amount[:].argsort()]\n",
        "# создаем массив нужной размерности\n",
        "array_3d = np.zeros ((3, int(groups_amount[0]), 3), dtype=np.int32)\n",
        "# заполняем массив\n",
        "array_short_all = show_shortness[show_shortness[:, 3] != 0]\n",
        "array_standart_all = show_shortness[show_shortness[:, 4] != 0]\n",
        "array_long_all = show_shortness[show_shortness[:, 5] != 0]\n",
        "array_short = array_short_all[:int(groups_amount[0]), :]\n",
        "array_standart = array_standart_all[:int(groups_amount[0]), :]\n",
        "array_long  = array_long_all[:int(groups_amount[0]), :]\n",
        "array_3d[0, :, :] = array_short[:, :3]\n",
        "array_3d[1, :, :] = array_standart[:, :3]\n",
        "array_3d[2, :, :] = array_long[:, :3]\n",
        "print(array_3d.shape)"
      ],
      "metadata": {
        "id": "GhPX7bgFheYO",
        "colab": {
          "base_uri": "https://localhost:8080/"
        },
        "outputId": "b5ab8bb0-8342-40a5-ced3-38dfe92540dc"
      },
      "execution_count": null,
      "outputs": [
        {
          "output_type": "stream",
          "name": "stdout",
          "text": [
            "(3, 7588, 3)\n"
          ]
        }
      ]
    }
  ],
  "metadata": {
    "kernelspec": {
      "display_name": "Python 3 (ipykernel)",
      "language": "python",
      "name": "python3"
    },
    "language_info": {
      "codemirror_mode": {
        "name": "ipython",
        "version": 3
      },
      "file_extension": ".py",
      "mimetype": "text/x-python",
      "name": "python",
      "nbconvert_exporter": "python",
      "pygments_lexer": "ipython3",
      "version": "3.9.12"
    },
    "colab": {
      "provenance": []
    }
  },
  "nbformat": 4,
  "nbformat_minor": 0
}