{
  "cells": [
    {
      "cell_type": "markdown",
      "metadata": {
        "id": "k90meIq88F4A"
      },
      "source": [
        "# Работа со строковыми значениями"
      ]
    },
    {
      "cell_type": "markdown",
      "metadata": {
        "id": "3CgqpozI8F4I"
      },
      "source": [
        "## Лабораторная работа 6"
      ]
    },
    {
      "cell_type": "markdown",
      "metadata": {
        "id": "DdCxNh_A8F4I"
      },
      "source": [
        "### Форматирование строк"
      ]
    },
    {
      "cell_type": "code",
      "source": [
        "import pandas as pd\n",
        "import random\n",
        "import xml.etree.ElementTree as ET\n",
        "import re\n",
        "import nltk\n",
        "from nltk.tokenize import word_tokenize, sent_tokenize\n",
        "from nltk import pos_tag"
      ],
      "metadata": {
        "id": "TBRWosyTmEsi"
      },
      "execution_count": 1,
      "outputs": []
    },
    {
      "cell_type": "markdown",
      "metadata": {
        "id": "uASmRV7u8F4J"
      },
      "source": [
        "1\\. Загрузите данные из файла `recipes_sample.csv` (__ЛР2__) в виде `pd.DataFrame` `recipes` При помощи форматирования строк выведите информацию об id рецепта и времени выполнения 5 случайных рецептов в виде таблицы следующего вида:\n",
        "\n",
        "    \n",
        "    |      id      |  minutes  |\n",
        "    |--------------------------|\n",
        "    |    61178     |    65     |\n",
        "    |    202352    |    80     |\n",
        "    |    364322    |    150    |\n",
        "    |    26177     |    20     |\n",
        "    |    224785    |    35     |\n",
        "    \n",
        "Обратите внимание, что ширина столбцов заранее неизвестна и должна рассчитываться динамически, в зависимости от тех данных, которые были выбраны. "
      ]
    },
    {
      "cell_type": "code",
      "source": [
        "nltk.download('punkt')\n",
        "nltk.download('averaged_perceptron_tagger')\n",
        "\n",
        "recipes = pd.read_csv('data/recipes_sample.csv')\n",
        "random_recipes = recipes.sample(5)\n",
        "\n",
        "header = \"|{:^10}|{:^10}|\".format(\"id\", \"minutes\")\n",
        "print(header)\n",
        "print(\"-\" * len(header))\n",
        "\n",
        "for index, row in random_recipes.iterrows():\n",
        "    print(\"|{:^10d}|{:^10d}|\".format(row['id'], row['minutes']))"
      ],
      "metadata": {
        "id": "Tlg4TK4c8TiC",
        "colab": {
          "base_uri": "https://localhost:8080/"
        },
        "outputId": "c758f140-45da-4c10-c27d-53945e9dee43"
      },
      "execution_count": 2,
      "outputs": [
        {
          "output_type": "stream",
          "name": "stderr",
          "text": [
            "[nltk_data] Downloading package punkt to /root/nltk_data...\n",
            "[nltk_data]   Unzipping tokenizers/punkt.zip.\n",
            "[nltk_data] Downloading package averaged_perceptron_tagger to\n",
            "[nltk_data]     /root/nltk_data...\n",
            "[nltk_data]   Unzipping taggers/averaged_perceptron_tagger.zip.\n"
          ]
        },
        {
          "output_type": "stream",
          "name": "stdout",
          "text": [
            "|    id    | minutes  |\n",
            "-----------------------\n",
            "|  122527  |    40    |\n",
            "|  371015  |    30    |\n",
            "|  244557  |    40    |\n",
            "|  99697   |    29    |\n",
            "|  350286  |    90    |\n"
          ]
        }
      ]
    },
    {
      "cell_type": "markdown",
      "metadata": {
        "id": "Hgr6Cepu8F4J"
      },
      "source": [
        "2\\. Напишите функцию `show_info`, которая по данным о рецепте создает строку (в смысле объекта python) с описанием следующего вида:\n",
        "\n",
        "```\n",
        "\"Название Из Нескольких Слов\"\n",
        "\n",
        "1. Шаг 1\n",
        "2. Шаг 2\n",
        "----------\n",
        "Автор: contributor_id\n",
        "Среднее время приготовления: minutes минут\n",
        "```\n",
        "\n",
        "    \n",
        "Данные для создания строки получите из файлов `recipes_sample.csv` (__ЛР2__) и `steps_sample.xml` (__ЛР3__). \n",
        "Вызовите данную функцию для рецепта с id `170895` и выведите (через `print`) полученную строку на экран."
      ]
    },
    {
      "cell_type": "code",
      "source": [
        "def parse_steps_xml(file_path):\n",
        "    tree = ET.parse(file_path)\n",
        "    root = tree.getroot()\n",
        "\n",
        "    steps_dict = {}\n",
        "    for recipe in root.findall('recipe'):\n",
        "        recipe_id = int(recipe.find('id').text)\n",
        "        steps = [step.text for step in recipe.find('steps').findall('step')]\n",
        "        steps_dict[recipe_id] = steps\n",
        "\n",
        "    return steps_dict\n",
        "\n",
        "def show_info(name, steps, minutes, author_id):\n",
        "    title = name.title()\n",
        "    steps_str = \"\\n\".join(f\"{i + 1}. {step}\" for i, step in enumerate(steps))\n",
        "    info_str = f'\"{title}\"\\n\\n{steps_str}\\n----------\\nАвтор: {author_id}\\nСреднее время приготовления: {minutes} минут\\n'\n",
        "    return info_str\n",
        "\n",
        "recipes = pd.read_csv('data/recipes_sample.csv')\n",
        "steps_dict = parse_steps_xml('data/steps_sample.xml')\n",
        "recipe = recipes.loc[recipes['id'] == 170895].iloc[0]\n",
        "recipe_info = show_info(\n",
        "    name=recipe['name'],\n",
        "    steps=steps_dict[recipe['id']],\n",
        "    minutes=recipe['minutes'],\n",
        "    author_id=recipe['contributor_id']\n",
        ")\n",
        "print(recipe_info)"
      ],
      "metadata": {
        "id": "EiFgI6bG8rVx",
        "colab": {
          "base_uri": "https://localhost:8080/"
        },
        "outputId": "d0146277-aecc-40aa-b809-4c296dd6d9fd"
      },
      "execution_count": 3,
      "outputs": [
        {
          "output_type": "stream",
          "name": "stdout",
          "text": [
            "\"Leeks And Parsnips  Sauteed Or Creamed\"\n",
            "\n",
            "1. clean the leeks and discard the dark green portions\n",
            "2. cut the leeks lengthwise then into one-inch pieces\n",
            "3. melt the butter in a medium skillet , med\n",
            "4. heat\n",
            "5. add the garlic and fry 'til fragrant\n",
            "6. add leeks and fry until the leeks are tender , about 6-minutes\n",
            "7. meanwhile , peel and chunk the parsnips into one-inch pieces\n",
            "8. place in a steaming basket and steam 'til they are as tender as you prefer\n",
            "9. i like them fork-tender\n",
            "10. drain parsnips and add to the skillet with the leeks\n",
            "11. add salt and pepper\n",
            "12. gently sautee together for 5-minutes\n",
            "13. at this point you can serve it , or continue on and cream it:\n",
            "14. in a jar with a screw top , add the half-n-half and arrowroot\n",
            "15. shake 'til blended\n",
            "16. turn heat to low under the leeks and parsnips\n",
            "17. pour in the arrowroot mixture , stirring gently as you pour\n",
            "18. if too thick , gradually add the water\n",
            "19. let simmer for a couple of minutes\n",
            "20. taste to adjust seasoning , probably an additional 1 / 2 teaspoon salt\n",
            "21. serve warm\n",
            "----------\n",
            "Автор: 8377\n",
            "Среднее время приготовления: 27 минут\n",
            "\n"
          ]
        }
      ]
    },
    {
      "cell_type": "markdown",
      "metadata": {
        "id": "6ac65ERB8F4L"
      },
      "source": [
        "## Работа с регулярными выражениями"
      ]
    },
    {
      "cell_type": "markdown",
      "metadata": {
        "id": "VI_BT3ZY8F4L"
      },
      "source": [
        "3\\. Напишите регулярное выражение, которое ищет следующий паттерн в строке: число (1 цифра или более), затем пробел, затем слова: hour или hours или minute или minutes. Произведите поиск по данному регулярному выражению в каждом шаге рецепта с id 25082. Выведите на экран все непустые результаты, найденные по данному шаблону."
      ]
    },
    {
      "cell_type": "code",
      "source": [
        "pattern = re.compile(r'\\d+\\s(?:hours|hour|minutes|minute)')\n",
        "steps_dict = parse_steps_xml('data/steps_sample.xml')\n",
        "steps_25082 = steps_dict[25082]\n",
        "\n",
        "for step in steps_25082:\n",
        "    matches = pattern.findall(step)\n",
        "    if matches:\n",
        "        print(matches)"
      ],
      "metadata": {
        "id": "Kwbr4UKn804L",
        "colab": {
          "base_uri": "https://localhost:8080/"
        },
        "outputId": "68df2ba4-1549-48c4-fffa-7c2f2fa79785"
      },
      "execution_count": 4,
      "outputs": [
        {
          "output_type": "stream",
          "name": "stdout",
          "text": [
            "['20 minutes']\n",
            "['10 minutes']\n",
            "['2 hours']\n",
            "['10 minutes']\n",
            "['20 minutes', '30 minutes']\n"
          ]
        }
      ]
    },
    {
      "cell_type": "markdown",
      "metadata": {
        "id": "9k-SpoiL8F4L"
      },
      "source": [
        "4\\. Напишите регулярное выражение, которое ищет шаблон вида \"this..., but\" _в начале строки_ . Между словом \"this\" и частью \", but\" может находиться произвольное число букв, цифр, знаков подчеркивания и пробелов. Никаких других символов вместо многоточия быть не может. Пробел между запятой и словом \"but\" может присутствовать или отсутствовать.\n",
        "\n",
        "Используя строковые методы `pd.Series`, выясните, для каких рецептов данный шаблон содержится в тексте описания. Выведите на экран количество таких рецептов и 3 примера подходящих описаний (текст описания должен быть виден на экране полностью)."
      ]
    },
    {
      "cell_type": "code",
      "source": [
        "pd.set_option(\"display.max_colwidth\", None)\n",
        "\n",
        "df = pd.read_csv(\"data/recipes_sample.csv\")\n",
        "pattern = r\"^this[\\w\\s]*,\\s?but\"\n",
        "mask = df[\"description\"].str.contains(pattern, case=False, na=False)\n",
        "print(f\"Количество рецептов с шаблоном: {mask.sum()}\")\n",
        "print(\"Примеры описаний:\")\n",
        "print(\"\\n\".join(df[mask][\"description\"].head(3).str.strip().to_list()))"
      ],
      "metadata": {
        "id": "WueJYh0l81e7",
        "colab": {
          "base_uri": "https://localhost:8080/"
        },
        "outputId": "2950fed3-144e-4d8c-f352-9ebac08abdeb"
      },
      "execution_count": 5,
      "outputs": [
        {
          "output_type": "stream",
          "name": "stdout",
          "text": [
            "Количество рецептов с шаблоном: 134\n",
            "Примеры описаний:\n",
            "this is a great meal eaten the same day ,but even better the next day , if you can wait! add your favourite spices, but try it first as it is and i think that you will enjoy the 'vegetable' taste. good for freezing.\n",
            "this was adapted from a recipe i found on the net, but i added julienne onion to the peppers.  this is a meal in itself, or you could have a small slice with a meat dish.  for those that like to have brunch, it's a bit different to your traditional quiche recipes.  if you love cheese, you could add 1/2 cup of your favorite to the egg mixture, then pour over peppers.\n",
            "this is kind of similar to some of the other versions out there, but it is the best and easiest i have found\n"
          ]
        }
      ]
    },
    {
      "cell_type": "markdown",
      "metadata": {
        "id": "2jGiC8Nq8F4L"
      },
      "source": [
        "5\\. В текстах шагов рецептов обыкновенные дроби имеют вид \"a / b\". Используя регулярные выражения, уберите в тексте шагов рецепта с id 72367 пробелы до и после символа дроби. Выведите на экран шаги этого рецепта после их изменения."
      ]
    },
    {
      "cell_type": "code",
      "source": [
        "recipe_72367_steps = parse_steps_xml('data/steps_sample.xml')[72367]\n",
        "pattern = re.compile(r'\\s*/\\s*')\n",
        "\n",
        "for step in recipe_72367_steps:\n",
        "    modified_step = pattern.sub('/', step)\n",
        "    print(modified_step)"
      ],
      "metadata": {
        "id": "iKrnIsCC81zX",
        "colab": {
          "base_uri": "https://localhost:8080/"
        },
        "outputId": "f3b50099-dfe7-470a-e953-d56d41d4e8cc"
      },
      "execution_count": 6,
      "outputs": [
        {
          "output_type": "stream",
          "name": "stdout",
          "text": [
            "mix butter , flour , 1/3 c\n",
            "sugar and 1-1/4 t\n",
            "vanilla\n",
            "press into greased 9\" springform pan\n",
            "mix cream cheese , 1/4 c\n",
            "sugar , eggs and 1/2 t\n",
            "vanilla beating until fluffy\n",
            "pour over dough\n",
            "combine apples , 1/3 c\n",
            "sugar and cinnamon\n",
            "arrange on top of cream cheese mixture and sprinkle with almonds\n",
            "bake at 350 for 45-55 minutes , or until tester comes out clean\n"
          ]
        }
      ]
    },
    {
      "cell_type": "markdown",
      "metadata": {
        "id": "LgYL8Bql8F4M"
      },
      "source": [
        "### Сегментация текста"
      ]
    },
    {
      "cell_type": "markdown",
      "metadata": {
        "id": "xOrnIr268F4M"
      },
      "source": [
        "6\\. Разбейте тексты шагов рецептов на слова при помощи пакета `nltk`. Посчитайте и выведите на экран кол-во уникальных слов среди всех рецептов. Словом называется любая последовательность алфавитных символов (для проверки можно воспользоваться `str.isalpha`). При подсчете количества уникальных слов не учитывайте регистр."
      ]
    },
    {
      "cell_type": "code",
      "source": [
        "tree = ET.parse('data/steps_sample.xml')\n",
        "root = tree.getroot()\n",
        "\n",
        "unique_words = set()\n",
        "\n",
        "for recipe in root.findall('recipe'):\n",
        "    steps = recipe.find('steps')\n",
        "    for step in steps.findall('step'):\n",
        "        words = word_tokenize(step.text)\n",
        "        for word in words:\n",
        "            if word.isalpha():\n",
        "                unique_words.add(word.lower())\n",
        "\n",
        "print(f\"Количество уникальных слов: {len(unique_words)}\")"
      ],
      "metadata": {
        "id": "UJCh2i0A82d7",
        "colab": {
          "base_uri": "https://localhost:8080/"
        },
        "outputId": "ecfb8a7d-ac72-450b-ddc4-47ebf688373f"
      },
      "execution_count": 7,
      "outputs": [
        {
          "output_type": "stream",
          "name": "stdout",
          "text": [
            "Количество уникальных слов: 14926\n"
          ]
        }
      ]
    },
    {
      "cell_type": "markdown",
      "metadata": {
        "id": "s5ByPaKm8F4M"
      },
      "source": [
        "7\\. Разбейте описания рецептов из `recipes` на предложения при помощи пакета `nltk`. Найдите 5 самых длинных описаний (по количеству _предложений_) рецептов в датасете и выведите строки фрейма, соответствующие этим рецептами, в порядке убывания длины."
      ]
    },
    {
      "cell_type": "code",
      "source": [
        "recipes = pd.read_csv('data/recipes_sample.csv')\n",
        "recipes['sent_count'] = recipes['description'].apply(lambda x: len(sent_tokenize(str(x))) if pd.notna(x) else 0)\n",
        "top_5_recipes = recipes.nlargest(5, 'sent_count')\n",
        "\n",
        "print(\"Топ 5 самых длинных описаний (по количеству предложений):\")\n",
        "print(top_5_recipes)"
      ],
      "metadata": {
        "id": "VT9UDT6A83Nv",
        "colab": {
          "base_uri": "https://localhost:8080/"
        },
        "outputId": "7aa43503-2e8c-49ed-92e3-3b667d3a2ea9"
      },
      "execution_count": 8,
      "outputs": [
        {
          "output_type": "stream",
          "name": "stdout",
          "text": [
            "Топ 5 самых длинных описаний (по количеству предложений):\n",
            "                                                                   name  \\\n",
            "18408                      my favorite buttercream icing for decorating   \n",
            "481           alligator claws  avocado fritters  with chipotle lime dip   \n",
            "22566                                         rich barley mushroom soup   \n",
            "6779                                                      chocolate tea   \n",
            "16296  little bunny foo foo cake  carrot cake  with cream cheese frosti   \n",
            "\n",
            "           id  minutes  contributor_id   submitted  n_steps  \\\n",
            "18408  334113       30          681465  2008-10-30     12.0   \n",
            "481    287008       45          765354  2008-02-19      NaN   \n",
            "22566  328708       60          221776  2008-10-03      NaN   \n",
            "6779   205348        6          428824  2007-01-14      NaN   \n",
            "16296  316000       68          689540  2008-07-27     14.0   \n",
            "\n",
            "                                                                                                                                                                                                                                                                                                                                                                                                                                                                                                                                                                                                                                                                                                                                                                                                                                                                                                                                                                                                                                                                                                                                                                                                                                                                                                                                                                                                                                                                                                                                                                                                                                                                                                                                                                                                                                                                                                                                                                                                                                                                                                                                                                                                                                                                                                                                                                                                                                                                                                                                                                                                                                                                                                                                                                                                                                                                                                                                                                                                                                                                                                                                                                                                                                                                                                                                                                                                                                                                                                                                                                                                                                                                                                                                                                                                                                                                                                                                                                                                                                                                                                                                                                                                                                                                                                                                                                                                                                                                                                                                                                                                                                                                                                                                                                                                                                                                                                                                                                                                                                                                                                                                                                                                                                                                                                                                                                                                                                                                                                                                                                                                                                                                                                                                                                                                                                                                                                                                                                                                                                                                                                                                                                                                                                                                                                                                                                                                                                                                                                                                                                                                                                                                                         description  \\\n",
            "18408  this wonderful icing is used for icing cakes and cookies as well as for borders and art work on cakes.  it makes a delicious filling also between the layers of cakes and under fondant icing.  you can make roses but it takes 3 or more days to dry them depending on the humidity. \\r\\n\\r\\nthere are many versions of “buttercream” icing. some are made with eggs and all butter.  some varieties, you have to cook your sugar to a softball stage.  others are 100% shortening or a combination of shortening and butter.\\r\\n\\r\\neach decorator has his or her favorite.  i personally think that the best taste and textured recipe is the one that has you cook your sugar, add to whipped eggs and use pounds of butter per batch. but…. i live in a state that can easily be a 100 degrees for days on end during the summer and you know what butter does on hot days.  it melts!  a greasy puddle of melted icing on a cake plate is not something i want to look at or eat.  \\r\\n\\r\\nyour top notch decorators have a few options we don’t.  they have huge refrigerators to store their cakes in, and refrigerated vehicles that they can use to deliver decorated cakes. i even know a few that refuse to deliver at all. if you want their cake, you come and get it and it’s your responsibility if it melts.  these decorators don’t even turn on their ovens for a wedding cake for less than $2000.  \\r\\n\\r\\nthe following recipes for buttercream icing hold up pretty well in the heat and humidity, but if you know that your cake will be out in very high temperatures, then don’t use any butter and use only a high quality shortening.  \\r\\n\\r\\nshortening:  \\r\\n\\r\\nsolid shortenings definitely have their place in baking. so i’m going to talk taste tests. crisco is the hands down winner. it has a clean taste with the melting point of 106 degrees. butter melts somewhere between 88 and 98 degrees f. depending on the amount of fat in the brand.  you can see that if you need to serve a pure buttercream decorated cake, on a hot august afternoon, you could have melted roses (and i do mean greasy puddles) on the tablecloth. this is when a good quality shortening will be a great blessing. i have been told by decorator friends that some of the warehouse brand shortenings leave a grainy consistency to the icing no matter what you do.  \\r\\n\\r\\npowdered (confectioner's) sugar:  \\r\\n\\r\\nregarding powdered sugar. please use a cane sugar. i prefer c&h powdered (confectioners) sugar.  many of the cheaper brands use sugar beets for their base.  i don’t know the chemistry behind it but you definitely get different textures to your icing that can vary from batch to batch.  i spent a few months being very frustrated with the quality of my icing until a kind lady did a bit of trouble shooting for me. she recommended the cane sugar and i’ve been blessing her ever since.\\r\\n\\r\\ntop-quality brands:  \\r\\n\\r\\nplease be safe, buy a quality brands and then stick with it for the best results. a friend of mine, who is a wonderful cook and baker, travels a lot and she often prepares treats for her hosts. she’s learned to ask the host to have her favorite shortening and flour on hand. she has even made up a little makeup type case that carries her favorite extracts and precious spices. that way she knows what she is working with, how it handles, and what tastes she can expect for the finished product. some surprises are not pleasant. \\r\\n\\r\\nstoring buttercream icing: \\r\\n\\r\\nif you are not going to be using the icing right away, place it in a clean, sealable bowl. store it in the refrigerator but please don’t place it next to the marinating salmon, garlic or broccoli.  you do not want those flavors in your icing!  i like to use my icing within a few days but it will hold in the cold refrigerator for a couple of weeks if necessary.  \\r\\n\\r\\ni often make a double batch of icing the night before i have a baking project.  that way i know that i have plenty of icing, it’s fresh and i don’t have to make it while i’m in the middle of baking the cakes.  the extra can always be used for a batch of cupcakes.\\r\\n\\r\\nwhen you remove the icing from the refrigerator, you might notice that the icing has taken on a sponge like texture. do yourself a favor and place the icing in a bowl and mix by hand using a back and forth, smashing motion with a spoon or icing spatula. what you want to do is to smash the bubbles out of the icing. this extra step will help to give you the smoothest icing for a pretty top and sides of the cake. i have found that you will get an even better texture of icing if it is at room temperature before you try to do your icing.\\r\\n\\r\\nbad buttercream icing days:  \\r\\n\\r\\none thing that seems very silly but is true. there are bad buttercream days! i’ve asked quite a few decorators about this and every one says “yes, there are lousy days”. i’m not sure what causes the problem. \\r\\n\\r\\nit could be that every human has bad days so they blame the buttercream. \\r\\n\\r\\nit may be the humidity or that there is a low pressure system hanging over your town. \\r\\n\\r\\ni just know why but it is a perceived fact. the way i have handled the problem is that i changed the decoration on the cake.  i couldn’t get the smooth top or sides as i originally planned. writing a greeting on a messy top would look awful so i changed the design idea and put flowers everywhere. i could have also done a basket weave technique around the sides. just go with the flow, and don’t get frustrated. aunt martha won’t chuck the cake at you if you don’t write her name on the top this time. remember that you are creating something that is to be eaten so have fun with it.  \\r\\n\\r\\ndifferent mixers:\\r\\n\\r\\nif you have a heavy duty counter mixer, you can prepare a whole batch at one time.  if you are using a hand mixer, divide the recipe in half.  if you notice the mixer getting hot, please stop and let the machine cool off.\\r\\n\\r\\ni also prefer to mix the buttercream on a low setting. it seems that the higher setting do the job faster but you also will get a spongy texture to the icing. i don’t want that quality in my final ice coating or flowers on the cake. \\r\\n\\r\\nusing weight scales:\\r\\n\\r\\n1 cup of crisco weighs 6 ounces.  \\r\\n\\r\\ni put a piece of wax paper on my scale and start plopping spoons of shortening on until i get the desired weight. it really saves on the cleanup.  \\r\\n\\r\\n\\r\\n\\r\\nrecipe from peggy at whatscookingamerica.net   \n",
            "481                                                                                                                                                                                                                                                                                                                                                                                                                                                                                                                                                                                                                                                                                                                                                                                                                                                                                                                                                                                                                                                                                                                                                                                                                                                                                                                                                                                                                                                                                                                                                                                                                                                                                                                                                                                                                                                                                                                                                                                                                                                                                                                                                                                                                                                                                                                                                                                                                                                                                                                                                                                                                                                                                                                                                                                                                                                                                                                                                                                                                                                                                          a translucent golden-brown crust allows the green of the avocado to be seen.  the crispy exterior is a counterpoint to the unctuous interior.  these are a signature dish for me, and the one i most often get requests to make (although my seafood and ricotta stuffed buckwheat pancakes run a close second).\\r\\n\\r\\nthese fritters came about ten years ago when i was shopping for a dinner i was making for a friend who is a cia-trained chef.  i was in a vegetable market and saw these gorgeous avocados that i just knew would be ripe in the next two days.  i tried to think of what i could do with them since a) everyone serves cold avocado, and b) i really am not fond of guacamole.  as i tried to think of what i could make with them that was hot, the work 'fritters' jumped into my head.  having never made a fritter before, i was a little surprised to have that thought; but having never known when a vegetable was going to be ripe before i figured i was on a roll and decided to go for it.\\r\\n\\r\\nto serve with my never-before-tried-fritters, i decided to make a crème fraîche-lime-cayenne dipping sauce.  so i made fresh crème fraîche, and used it as a base not only for this dip, but for a tia maria sauce to go with the flourless chocolate cake i made for dessert (another never-before made item, but with the recipe from cook's illustrated it was the only thing i wasn't making up as i went along).\\r\\n\\r\\nthe result of the fritters was that i got to taste the test fritter, then had to dive across the couch before the last one was devoured in order to have a second.\\r\\n\\r\\nthe one evolution in the recipe is the change from cayenne to chipotle in the dip.  i like the smokiness, and it gives a rough edge to something very smooth - i am all about contrast.  feel free to use whatever chile or combination thereof that you like best.  this dip is easy and stands on it's own at a party for anything you want to dip into it.  i have also made it with vegan sour cream with great results.\\r\\n\\r\\nthe name alligator claws comes from an alternate name for the avocado: the alligator pear, as well as the fact that the wedges of avocado look like claws.\\r\\n\\r\\n(for those not familiar with the name alligator pear, it derives from both the tough, textured exterior - reminiscent of an alligator's hide, and the fact that you really can't eat one until it softens - just like a pear.)\\r\\n\\r\\nalligator claws are also a great name to call them if you have kids who either won't eat anything that sounds weird and you want to keep them to yourself, or - if you want your kids to eat them - if you have kids who'll only eat things that will gross other people out.\\r\\n\\r\\nif you are preparing these for kids (and i recommend you do whatever name you choose to call them), protect their palates and tone down the heat of the sauce.  maybe skip the chiles altogether and put in just a hint of finely ground pepper (white pepper won't look like black specks throughout the dip - i'm normally not that fussy, but it's something kids will notice).\\r\\n\\r\\nallow half an avocado per person.  this is so rich that more is too much.\\r\\n\\r\\nnote:\\r\\nyou can easily cut the recipe in half, all the batter is is a one-to-one mix of flour & water (someone has suggested trying tempura batter which comes in a mix at many supermarkets - i tend to be a from-scratch kind of guy.  or do i just mean itchy?).\\r\\n\\r\\nenjoy.\\r\\n\\r\\n-- text by michael david winter, aka the poker roach   \n",
            "22566                                                                                                                                                                                                                                                                                                                                                                                                                                                                                                                                                                                                                                                                                                                                                                                                                                                                                                                                                                                                                                                                                                                                                                                                                                                                                                                                                                                                                                                                                                                                                                                                                                                                                                                                                                                                                                                                                                                                                                                                                                                                                                                                                                                                                                                                                                                                                                                                                                                                                                                                                                                                                                                                                                                                                                                                                                                                                                                                                                                                                                                                                                                                                                                                                                                                                                                                                                                                                                                                                                                                                                                                                                                                                                                                                                                                                                                                                                                                                                                                                                                                                                                                                                                                                                                                                                                                                                                                                                                                                                                                                                                                                                                                                                                                                               this is one of the best soups i've ever made and it is even worthy of company.  so simple, yet rich in deep, mushroomy flavor.  the inspiration was zaar #26877, a delicious mushroom rice casserole.  i found i couldn't stop eating the liquid before putting the casserole into the oven and that gave me the idea that the base  would make a delicious soup.  and it does! \\r\\nuse plenty of fresh mushrooms.  i buy them when they are marked 1/2 price at the grocery, as this is a good way to use your 'shrooms that are starting to get dark.  it is the soy sauce that transforms the broth from ho-hum to yum.  i try to use low sodium or home-made no sodium chicken broth so that i can use the soy for the sodium.  there is no sense of \"asian\" in this soup at all.  ( i would not make this without the soy. )  just a little bit adds the depth of flavor and even color that transforms the soup.\\r\\n\\r\\nnotes:\\r\\n1. if you want to make it into \"cream of\" just add some evaporated milk...delicious. \\r\\n\\r\\n2.  once i broke up a leftover ground sirloin burger into my soup bowl and nuked it...was that ever good.\\r\\n\\r\\n3. i did do this recipe with sinewy beef scraps cut from a roast once.  i browned the beef in the bottom of the pan, added the butter and onions and continued as written.  the beef added great color and flavor.  in this case, i threw the beef piece away, because it had too much sinew, but it was a great addition!  i ended up using less soy.\\r\\n\\r\\n4.  i have eye-ball made this soup with amounts i had in the fridge/cupboard and it was great.  so if you don't have that many mushrooms, make it anyway, just keep tasting it until it tastes good to you! \\r\\n\\r\\n5.  i've made it without food-processing the onions, and that worked just as well.\\r\\n\\r\\n lots of flexibility here!  try it, it might be the best barley mushroom soup you've ever had!   \n",
            "6779                                                                                                                                                                                                                                                                                                                                                                                                                                                                                                                                                                                                                                                                                                                                                                                                                                                                                                                                                                                                                                                                                                                                                                                                                                                                                                                                                                                                                                                                                                                                                                                                                                                                                                                                                                                                                                                                                                                                                                                                                                                                                                                                                                                                                                                                                                                                                                                                                                                                                                                                                                                                                                                                                                                                                                                                                                                                                                                                                                                                                                                                                                                                                                                                                                                                                                                                                                                                                                                                                                                                                                                                                                                                                                                                                                                                                                                                                                                                                                                                                                                                                                                                                                                                                                                                                                                                                                                                                                                                                                                                                                                                                                                                                                                                                                                                                                                                                                                                                                                   i wrote this because there are an astounding lack of chocolate tea recipes on the internet. \\r\\n\\r\\n the first time i heard about chocolate tea was doing a web search on chocolate. there seem to be a few companies out there who sell chocolate tea. i like to stay up late and had run out of coffee. i was in real need for a good tasting caffene beverage. i first thought chocolate tea would be yucky. we are conditioned to accept chocolate with coffee as a rule but not tea. i was very mistaken! \\r\\n\\r\\n tea and chocolate goes very well with each other and it is also very good for your body. both tea and chocolate are loaded with antioxidents. you may however not want to give this to small children because of the caffene. \\r\\n\\r\\n not having a recipe to follow, i created one. (this one) i used these ingredients because i had them on hand and it was quicker than hunting around for my pepermint extract or messing with my powered cocoa.\\r\\n\\r\\n this being said, if you do want to use powered cocoa or pepermint extract instead of the ovaltine and lifesavers please do so. experiment. this recipe is \"opensource\" :-)\\r\\n\\r\\n you will have to adjust the sugar levels to taste. if you like you can even omit the mints. i used them and i find it gives the beverage that spceial something.\\r\\n\\r\\nthis recipe makes one large coffee cup of beverage.\\r\\n\\r\\nif you use regular size coffee cups you may get two servings out of this if serving each person one serving each.\\r\\n\\r\\nto serve 1 serving each to 2 or 3 people using large coffee cups, double or tripple the recipie accodingly\\r\\n\\r\\nenjoy !\\r\\n\\r\\nplease let me klnow if you like it! :-)   \n",
            "16296                                                                                                                                                                                                                                                                                                                                                                                                                                                                                                                                                                                                                                                                                                                                                                                                                                                                                                                                                                                                                                                                                                                                                                                                                                                                                                                                                                                                                                                                                                                                                                                                                                                                                                                                                                                                                                                                                                                                                                                                                                                                                                                                                                                                                                                                                                                                                                                                                                                                                                                                                                                                                                                                                                                                                                                                                                                                                                                                                                                                                                                                                                                                                                                                                                                                                                                                                                                                                                                                                                                                                                                                                                                                                                                                                                                                                                                                                                                                                                                                                                                                                                                                                                          the first time i made this cake i grated a million pounds of carrots on a knucklebuster.  then they invented cuisinarts!  now it is much faster to shred the carrots on a fine shredding disk and no bloody knuckles!  i have baked it in 8\", 9\", 9x13\" pans so if you want to experiment with pan size it works.  one thing i found was baking and stacking the three layers is tricky.  my favorite way is two 8\" pans for a nice layer cake and an 8\" square pan to put into the freezer for unexpected company. i hope you try this wonderful cake.  update:  in the spirit of carrot cake stories, this cake was invented by a bunny named foo-foo.  he is very famous and even has a hit song which goes like this: sing to the tune of 'down by the station'..........     \\r\\n\\r\\n\\r\\n little bunny foo foo,\\r\\nhopping through the forest,\\r\\nscooping up the field mice,\\r\\nand boppin' 'em on the head.\\r\\n\\r\\ndown came the good fairy and she said - \\r\\n\\r\\n\"little bunny foo foo,\\r\\ni don't want to see you,\\r\\nscooping up the field mice,\\r\\nand boppin' 'em on the head.\\r\\ni'll give you three chances,\\r\\nand if you don't behave ...\\r\\ni'll turn you into a goon!\"\\r\\n\\r\\nthe next day:\\r\\n\\r\\nlittle bunny foo foo,\\r\\nhopping through the forest,\\r\\nscooping up the field mice,\\r\\nand boppin' 'em on the head.\\r\\n\\r\\ndown came the good fairy and she said:\\r\\n\\r\\n\"little bunny foo foo,\\r\\ni don't want to see you.\\r\\nscooping up the field mice.\\r\\nand boppin' 'em on the head.\\r\\ni'll give you two more chances,\\r\\nand if you don't behave...\\r\\ni'll turn you into a goon!\"\\r\\n\\r\\nthe next day:\\r\\n\\r\\nlittle bunny foo foo,\\r\\nhopping through the forest,\\r\\nscooping up the field mice,\\r\\nand boppin' 'em on the head.\\r\\n\\r\\ndown came the good fairy and she said:\\r\\n\\r\\n\"little bunny foo foo,\\r\\ni don't want to see you,\\r\\nscooping up the field mice,\\r\\nand boppin' 'em on the head.\\r\\ni'll give you one more chance,\\r\\nand if you don't behave..........\\r\\ni'll turn you into a goon!\"\\r\\n\\r\\nthe next day:\\r\\n\\r\\nlittle bunny foo foo,\\r\\nhopping through the forest,\\r\\nscooping up the field mice,\\r\\nand boppin' 'em on the head,\\r\\n\\r\\ndown came the good fairy and she said\\r\\n\\r\\n\"little bunny foo foo,\\r\\ni don't want to see you,\\r\\nscooping up the field mice,\\r\\nand boppin' 'em on the head.\\r\\ni gave you three chances\\r\\nand you didn't behave\\r\\nnow you're a goon! poof!!\"\\r\\n\\r\\nthe moral of the story is:\\r\\nhare today, goon tomorrow   \n",
            "\n",
            "       n_ingredients  sent_count  \n",
            "18408            NaN          76  \n",
            "481              9.0          27  \n",
            "22566           10.0          24  \n",
            "6779             NaN          23  \n",
            "16296            NaN          23  \n"
          ]
        }
      ]
    },
    {
      "cell_type": "markdown",
      "metadata": {
        "id": "6XnGBv3w8F4M"
      },
      "source": [
        "8\\. Напишите функцию, которая для заданного предложения выводит информацию о частях речи слов, входящих в предложение, в следующем виде:\n",
        "```\n",
        "PRP   VBD   DT      NNS     CC   VBD      NNS        RB   \n",
        " I  omitted the raspberries and added strawberries instead\n",
        "``` \n",
        "Для определения части речи слова можно воспользоваться `nltk.pos_tag`.\n",
        "\n",
        "Проверьте работоспособность функции на названии рецепта с id 241106.\n",
        "\n",
        "Обратите внимание, что часть речи должна находиться ровно посередине над соотвествующим словом, а между самими словами должен быть ровно один пробел.\n"
      ]
    },
    {
      "cell_type": "code",
      "execution_count": 9,
      "metadata": {
        "id": "5RZjsOfe8F4M",
        "colab": {
          "base_uri": "https://localhost:8080/"
        },
        "outputId": "1b0ceeab-27ca-4dd0-a40a-f8c86c8ac159"
      },
      "outputs": [
        {
          "output_type": "stream",
          "name": "stdout",
          "text": [
            "   JJ     NNS    IN     NNS    VBP    JJ    CC   JJ   NNS  \n",
            "eggplant steaks with chickpeas feta cheese and black olives\n"
          ]
        }
      ],
      "source": [
        "def display_pos(sentence):\n",
        "    words = word_tokenize(sentence)\n",
        "    \n",
        "    pos_tags = nltk.pos_tag(words)\n",
        "    \n",
        "    formatted_words = []\n",
        "    formatted_tags = []\n",
        "    \n",
        "    for word, tag in pos_tags:\n",
        "        length_diff = len(word) - len(tag)\n",
        "        \n",
        "        if length_diff > 0:\n",
        "            formatted_word = word\n",
        "            formatted_tag = tag.center(len(word))\n",
        "        else:\n",
        "            formatted_word = word.center(len(tag))\n",
        "            formatted_tag = tag\n",
        "        \n",
        "        formatted_words.append(formatted_word)\n",
        "        formatted_tags.append(formatted_tag)\n",
        "    \n",
        "    word_str = ' '.join(formatted_words)\n",
        "    tag_str = ' '.join(formatted_tags)\n",
        "    \n",
        "    print(tag_str)\n",
        "    print(word_str)\n",
        "\n",
        "recipes = pd.read_csv('data/recipes_sample.csv')\n",
        "recipe_name = recipes.loc[recipes['id'] == 241106, 'name'].values[0]\n",
        "\n",
        "display_pos(recipe_name)"
      ]
    }
  ],
  "metadata": {
    "kernelspec": {
      "display_name": "Python 3 (ipykernel)",
      "language": "python",
      "name": "python3"
    },
    "language_info": {
      "codemirror_mode": {
        "name": "ipython",
        "version": 3
      },
      "file_extension": ".py",
      "mimetype": "text/x-python",
      "name": "python",
      "nbconvert_exporter": "python",
      "pygments_lexer": "ipython3",
      "version": "3.9.7"
    },
    "colab": {
      "provenance": []
    }
  },
  "nbformat": 4,
  "nbformat_minor": 0
}