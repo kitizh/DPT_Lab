{
  "cells": [
    {
      "cell_type": "markdown",
      "metadata": {
        "id": "Tz2yF6KUJzuP"
      },
      "source": [
        "# Работа с Excel"
      ]
    },
    {
      "cell_type": "markdown",
      "metadata": {
        "id": "Ivz4IDutJzuU"
      },
      "source": [
        "## Лабораторная работа 7.1"
      ]
    },
    {
      "cell_type": "markdown",
      "metadata": {
        "id": "5L7UsS_DJzuU"
      },
      "source": [
        "1. Загрузите данные из файлов `reviews_sample.csv` (__ЛР2__) и `recipes_sample.csv` (__ЛР5__) в виде `pd.DataFrame`. Обратите внимание на корректное считывание столбца(ов) с индексами. Оставьте в таблице с рецептами следующие столбцы: `id`, `name`, `minutes`, `submitted`, `description`, `n_ingredients`"
      ]
    },
    {
      "cell_type": "code",
      "source": [
        "import pandas as pd"
      ],
      "metadata": {
        "id": "50kumJPzHzm0"
      },
      "execution_count": 1,
      "outputs": []
    },
    {
      "cell_type": "code",
      "execution_count": 3,
      "metadata": {
        "id": "EzuUsVWTMjFe"
      },
      "outputs": [],
      "source": [
        "reviews = pd.read_csv('data/reviews_sample.csv', index_col=0)\n",
        "recipes = pd.read_csv('data/recipes_sample.csv', index_col='id')\n",
        "recipes = recipes[['name', 'minutes', 'submitted', 'description', 'n_ingredients']]"
      ]
    },
    {
      "cell_type": "markdown",
      "metadata": {
        "id": "xrLF6wHxJzuV"
      },
      "source": [
        "2. Случайным образом выберите 5% строк из каждой таблицы и сохраните две таблицы на разные листы в один файл `recipes.xlsx`. Дайте листам названия \"Рецепты\" и \"Отзывы\", соответствующие содержанию таблиц. "
      ]
    },
    {
      "cell_type": "code",
      "execution_count": 4,
      "metadata": {
        "id": "vcDYNwaRN3FV"
      },
      "outputs": [],
      "source": [
        "recipes_sample = recipes.sample(frac=0.05)\n",
        "reviews_sample = reviews.sample(frac=0.05)\n",
        "\n",
        "with pd.ExcelWriter('recipes.xlsx') as writer:\n",
        "    recipes_sample.to_excel(writer, sheet_name='Рецепты')\n",
        "    reviews_sample.to_excel(writer, sheet_name='Отзывы')"
      ]
    },
    {
      "cell_type": "markdown",
      "metadata": {
        "id": "XPZq3VWHJzuV"
      },
      "source": [
        "3. Используя `xlwings`, добавьте на лист `Рецепты` столбец `seconds_assign`, показывающий время выполнения рецепта в секундах. Выполните задание при помощи присваивания массива значений диапазону ячеек."
      ]
    },
    {
      "cell_type": "code",
      "execution_count": null,
      "metadata": {
        "id": "l4SBfAoxPlkT"
      },
      "outputs": [],
      "source": [
        "import xlwings as xw\n",
        "recipes_sheet = pd.read_excel('recipes.xlsx', sheet_name='Рецепты')\n",
        "\n",
        "recipes_sheet['seconds_assign'] = recipes_sheet['minutes'] * 60\n",
        "\n",
        "tab = xw.Book('recipes.xlsx')\n",
        "sheet = tab.sheets['Рецепты']\n",
        "sheet.range('I1').value = 'seconds_assign'\n",
        "sheet.range('I2').value = df['seconds_assign'].values.reshape(-1, 1)\n",
        "\n",
        "tab.save()\n",
        "tab.close()"
      ]
    },
    {
      "cell_type": "markdown",
      "metadata": {
        "id": "IKmED6zUJzuV"
      },
      "source": [
        "4. Используя `xlwings`, добавьте на лист `Рецепты` столбец `seconds_formula`, показывающий время выполнения рецепта в секундах. Выполните задание при помощи формул Excel."
      ]
    },
    {
      "cell_type": "code",
      "execution_count": null,
      "metadata": {
        "id": "23SV5X4wHDfq"
      },
      "outputs": [],
      "source": [
        "tab = xw.Book('recipes.xlsx')\n",
        "sheet = tab.sheets['Рецепты']\n",
        "\n",
        "sheet.range('J1').value = 'seconds_formula'\n",
        "sheet.range('J2').formula = '=C2*60'\n",
        "\n",
        "last_row = sheet.range('B' + str(sheet.cells.last_cell.row)).end('up').row\n",
        "sheet.range('J2:J' + str(last_row)).formula = '=C2*60'\n",
        "\n",
        "tab.save()\n",
        "tab.close()"
      ]
    },
    {
      "cell_type": "markdown",
      "metadata": {
        "id": "9btoqmIrJzuW"
      },
      "source": [
        "5. Сделайте названия всех добавленных столбцов полужирными и выровняйте по центру ячейки."
      ]
    },
    {
      "cell_type": "code",
      "execution_count": null,
      "metadata": {
        "id": "UArXeoqMHDfr"
      },
      "outputs": [],
      "source": [
        "tab = xw.Book('recipes.xlsx')\n",
        "sheet = tab.sheets['Рецепты']\n",
        "\n",
        "header_range = sheet.range('I1:J1')\n",
        "\n",
        "header_range.api.Font.Bold = True\n",
        "header_range.api.HorizontalAlignment = 2\n",
        "\n",
        "tab.save()\n",
        "tab.close()"
      ]
    },
    {
      "cell_type": "markdown",
      "metadata": {
        "id": "hYgcc-NuJzuW"
      },
      "source": [
        "6. Раскрасьте ячейки столбца `minutes` в соответствии со следующим правилом: если рецепт выполняется быстрее 5 минут, то цвет - зеленый; от 5 до 10 минут - жёлтый; и больше 10 - красный."
      ]
    },
    {
      "cell_type": "code",
      "execution_count": null,
      "metadata": {
        "id": "dBJz2rEUHDft"
      },
      "outputs": [],
      "source": [
        "tab = xw.Book('recipes.xlsx')\n",
        "sheet = tab.sheets['Рецепты']\n",
        "\n",
        "minutes_range = sheet.range('C2:C1501')\n",
        "\n",
        "for cell in minutes_range:\n",
        "    if cell.value < 5:\n",
        "        cell.color = (146, 208, 80)  # зеленый\n",
        "    elif 5 <= cell.value < 10:\n",
        "        cell.color = (255, 255, 0)  # желтый\n",
        "    else:\n",
        "        cell.color = (255, 0, 0)  # красный\n",
        "\n",
        "tab.save()\n",
        "tab.close()"
      ]
    },
    {
      "cell_type": "markdown",
      "metadata": {
        "id": "1jZebRgEJzuW"
      },
      "source": [
        "7. Добавьте на лист `Рецепты`  столбец `n_reviews`, содержащий кол-во отзывов для этого рецепта. Выполните задание при помощи формул Excel."
      ]
    },
    {
      "cell_type": "code",
      "execution_count": null,
      "metadata": {
        "id": "HnVkfdibHDfv"
      },
      "outputs": [],
      "source": [
        "wb = xw.Book('recipes.xlsx')\n",
        "sheet = wb.sheets['Рецепты']\n",
        "\n",
        "sheet.range('K1').value = 'n_reviews'\n",
        "sheet.range('K2:K{}'.format(sheet.range('A1').current_region.last_cell.row)).formula = '=COUNTIFS(Отзывы!A:A, Рецепты!A2)'\n",
        "\n",
        "header_range = sheet.range('K1')\n",
        "header_range.api.Font.Bold = True\n",
        "header_range.api.HorizontalAlignment = 2\n",
        "\n",
        "wb.save()\n",
        "wb.close()\n",
        "\n"
      ]
    },
    {
      "cell_type": "markdown",
      "metadata": {
        "id": "zEx-U8woJzuX"
      },
      "source": [
        "## Лабораторная работа 7.2"
      ]
    },
    {
      "cell_type": "markdown",
      "metadata": {
        "id": "EbztA6D1JzuX"
      },
      "source": [
        "8. Напишите функцию `validate()`, которая проверяет соответствие всех строк из листа `Отзывы` следующим правилам:\n",
        "    * Рейтинг - это число от 0 до 5 включительно\n",
        "    * Соответствующий рецепт имеется на листе `Рецепты`\n",
        "    \n",
        "В случае несоответствия этим правилам, выделите строку красным цветом"
      ]
    },
    {
      "cell_type": "code",
      "execution_count": null,
      "metadata": {
        "id": "kLwCDWfzHDfy"
      },
      "outputs": [],
      "source": [
        "import xlwings as xw\n",
        "\n",
        "def validate():\n",
        "    \n",
        "    wb = xw.Book('recipes.xlsx')\n",
        "    \n",
        "\n",
        "    recipes_sheet = wb.sheets['Рецепты']\n",
        "    reviews_sheet = wb.sheets['Отзывы']\n",
        "    \n",
        "\n",
        "    last_recipe_row = recipes_sheet.range('A' + str(recipes_sheet.cells.last_cell.row)).end('up').row\n",
        "    last_review_row = reviews_sheet.range('A' + str(reviews_sheet.cells.last_cell.row)).end('up').row\n",
        "    \n",
        "    \n",
        "    reviews_sheet.range('A2:E' + str(last_review_row)).color_index = None\n",
        "    \n",
        "\n",
        "    for i in range(2, last_review_row + 1):\n",
        "        rating = reviews_sheet.range('C' + str(i)).value\n",
        "        recipe_id = reviews_sheet.range('B' + str(i)).value\n",
        "        \n",
        "    \n",
        "        if rating is None or not (0 <= rating <= 5):\n",
        "            reviews_sheet.range('E' + str(i)).color_index = 3\n",
        "        \n",
        "    \n",
        "        recipe_found = False\n",
        "        for j in range(2, last_recipe_row + 1):\n",
        "            if recipes_sheet.range('A' + str(j)).value == recipe_id:\n",
        "                recipe_found = True\n",
        "                break\n",
        "        if not recipe_found:\n",
        "            reviews_sheet.range('B' + str(i)).color_index = 3\n",
        "            reviews_sheet.range('C' + str(i)).color_index = 3\n",
        "            \n",
        "   \n",
        "    wb.save()\n",
        "    wb.close()"
      ]
    },
    {
      "cell_type": "markdown",
      "metadata": {
        "id": "pC2Uz45oJzuX"
      },
      "source": [
        "9. В файле `recipes_model.csv` находится модель данных предметной области \"рецепты\". При помощи пакета `csv` считайте эти данные. При помощи пакета `xlwings` запишите данные на лист `Модель` книги `recipes_model.xlsx`, начиная с ячейки `A2`, не используя циклы. Сделайте скриншот текущего состояния листа и прикрепите в ячейку ноутбука. "
      ]
    },
    {
      "cell_type": "code",
      "execution_count": null,
      "metadata": {
        "scrolled": true,
        "id": "_a0uPHX4HDf0"
      },
      "outputs": [],
      "source": [
        "import xlwings as xw\n",
        "import csv\n",
        "\n",
        "filename = 'recipes_model.xlsx'\n",
        "\n",
        "if not xw.Book(filename).sheets:\n",
        "    # создание новой книги\n",
        "    wb = xw.Book()\n",
        "    wb.sheets.add(name='Модель')\n",
        "    wb.save(filename)\n",
        "    wb.close()\n",
        "\n",
        "with open('recipes_model.csv', 'r', encoding='utf-8') as file:\n",
        "    reader = csv.reader(file)\n",
        "    data = list(reader)\n",
        "\n",
        "wb = xw.Book(filename)\n",
        "sheet = wb.sheets['Модель']\n",
        "\n",
        "sheet.clear()\n",
        "\n",
        "\n",
        "sheet.range('A1').value = ['Название столбца', 'Тип данных', 'Обязательно к заполнению', 'Ключ', 'Описание']\n",
        "\n",
        "\n",
        "for row_idx, row in enumerate(data):\n",
        "    sheet.range(f'A{row_idx+2}').value = row\n",
        "\n",
        "sheet.range('A1:E1').color = (0, 128, 128)\n",
        "sheet.range('A1:E1').api.Font.Bold = True\n",
        "sheet.autofit()\n",
        "\n",
        "wb.save()\n",
        "wb.close()\n"
      ]
    },
    {
      "cell_type": "markdown",
      "metadata": {
        "id": "ICFIQqZcJzuX"
      },
      "source": [
        "10. При помощи пакета `xlwings` добавьте в столбец J формулу для описания столбца на языке SQL. Формула должна реализовывать следующую логику:\n",
        "\n",
        "    1\\. в начале строки идут значения из столбцов В и C (значение столбца С приведено к верхнему регистру), разделенные пробелом\n",
        "    \n",
        "    2\\. далее идут слова на основе столбца \"Ключ\"\n",
        "        2.1 если в столбце \"Ключ\" указано значение \"PK\", то дальше через пробел идет ключевое слово \"PRIMARY KEY\"\n",
        "        2.2 если в столбце \"Ключ\" указано значение \"FK\", то дальше через пробел идет ключевое слово \"REFERENCES\", затем значения столбцов H и I в формате \"название_таблицы(название_столбца)\"\n",
        "        \n",
        "    3\\. если в столбце \"Обязательно к заполнению\" указано значение \"Y\" и в столбце \"Ключ\" указано не \"PK\", то дальше через пробел идет ключевое слово \"NOT NULL\".\n",
        "\n",
        "Заполните этой формулой необходимое количество строк, используя \"протягивание\". Количество строк для протягивания определите на основе данных.\n",
        "\n",
        "Сделайте скриншот текущего состояния листа и прикрепите в ячейку ноутбука."
      ]
    },
    {
      "cell_type": "code",
      "execution_count": null,
      "metadata": {
        "id": "_VIQx_51HDf2"
      },
      "outputs": [],
      "source": [
        "import xlwings as xw\n",
        "\n",
        "wb = xw.Book('recipes_model.xlsx')\n",
        "ws = wb.sheets['Модель']\n",
        "num_rows = ws.range('B:B').end('down').row - 1\n",
        "formula = f'=B2 & \" \" & UPPER(C2) & IF(D2=\"PK\", \" PRIMARY KEY\", IF(D2=\"FK\", \" REFERENCES \" & H2 & \"(\" & I2 & \")\", IF(D2<>\"PK\" & F2=\"Y\", \" NOT NULL\", \"\")))'\n",
        "ws.range('J2').value = formula\n",
        "ws.range(f'J2:J{num_rows+1}').api.AutoFill(ws.range(f'J2:J{num_rows+1}').api, 0)\n",
        "wb.save()\n",
        "wb.close()\n"
      ]
    },
    {
      "cell_type": "markdown",
      "metadata": {
        "id": "959Yvv7nHDf3"
      },
      "source": [
        "11. При помощи пакета `xlwings` измените стилизацию листа `Модель`.\n",
        "* для заголовков добавьте заливку цвета `00ccff`\n",
        "* примените автоподбор ширины столбца;\n",
        "* сделайте шрифт заголовков полужирным;\n",
        "* добавьте таблице автофильтр.\n",
        "\n",
        "Сделайте скриншот текущего состояния листа и прикрепите в ячейку ноутбука."
      ]
    },
    {
      "cell_type": "code",
      "execution_count": null,
      "metadata": {
        "id": "lhflZniMHDf5"
      },
      "outputs": [],
      "source": [
        "import xlwings as xw\n",
        "\n",
        "\n",
        "wb = xw.Book(\"recipes_model.xlsx\")\n",
        "sheet = wb.sheets[\"Модель\"]\n",
        "\n",
        "\n",
        "header_style = xw.Style(\n",
        "    fill=xw.PatternFill(pattern=\"Solid\", fgColor=\"00ccff\"),\n",
        "    font=xw.Font(bold=True)\n",
        ")\n",
        "\n",
        "\n",
        "header_range = sheet.range(\"A1:J1\")\n",
        "header_range.style = header_style\n",
        "header_range.autofit()\n",
        "\n",
        "\n",
        "table_range = sheet.range(\"A1:J20\")  \n",
        "table_range.api.AutoFilter()  \n",
        "\n",
        "\n",
        "wb.save()\n",
        "wb.close()\n"
      ]
    },
    {
      "cell_type": "markdown",
      "metadata": {
        "id": "OTtRQhUbJzuY"
      },
      "source": [
        "12. Посчитайте количество атрибутов для каждой из сущностей. Создайте лист `Статистика` и запишите в него результат группировки, начиная с ячейки \"А1\". Визуализируйте полученный результат при помощи столбчатой диаграммы. Сохраните полученную визуализацию на лист `Статистика`, начиная с ячейки \"E2\".  Сделайте скриншот листа `Статистика` и прикрепите в ячейку ноутбука.\n",
        "\n",
        "* Вы можете воспользоваться методами для визуализации, которые поставляются вместе с объектами `pandas` (см. https://pandas.pydata.org/docs/reference/api/pandas.DataFrame.plot) "
      ]
    },
    {
      "cell_type": "code",
      "execution_count": null,
      "metadata": {
        "id": "i1E_Lz0wHDf8"
      },
      "outputs": [],
      "source": []
    }
  ],
  "metadata": {
    "colab": {
      "provenance": []
    },
    "kernelspec": {
      "display_name": "Python 3 (ipykernel)",
      "language": "python",
      "name": "python3"
    },
    "language_info": {
      "codemirror_mode": {
        "name": "ipython",
        "version": 3
      },
      "file_extension": ".py",
      "mimetype": "text/x-python",
      "name": "python",
      "nbconvert_exporter": "python",
      "pygments_lexer": "ipython3",
      "version": "3.9.13"
    }
  },
  "nbformat": 4,
  "nbformat_minor": 0
}