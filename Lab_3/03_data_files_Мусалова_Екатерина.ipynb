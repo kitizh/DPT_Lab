{
  "cells": [
    {
      "cell_type": "markdown",
      "source": [
        "# Форматы данных (1)"
      ],
      "metadata": {
        "id": "GiTIBWLi10ty"
      }
    },
    {
      "cell_type": "markdown",
      "source": [
        "## Лабораторная работа №4"
      ],
      "metadata": {
        "id": "5o-BboJ110t5"
      }
    },
    {
      "cell_type": "markdown",
      "source": [
        "### JSON"
      ],
      "metadata": {
        "id": "q_erkwWo10t5"
      }
    },
    {
      "cell_type": "code",
      "execution_count": null,
      "source": [
        "import json\n",
        "import pickle\n",
        "import pandas as pd\n",
        "import os\n",
        "\n",
        "with open(\"./data/addres-book.json\", \"r\", encoding=\"utf-8\") as f:\n",
        "    data = json.load(f)"
      ],
      "outputs": [],
      "metadata": {
        "id": "rNWhJbwd10t6"
      }
    },
    {
      "cell_type": "markdown",
      "source": [
        "1.1 Считайте файл `contributors_sample.json`. Воспользовавшись модулем `json`, преобразуйте содержимое файла в соответствующие объекты python. Выведите на экран информацию о первых 3 пользователях."
      ],
      "metadata": {
        "id": "3A7hnNJJ10t6"
      }
    },
    {
      "cell_type": "code",
      "execution_count": null,
      "source": [
        "class User:\n",
        "\n",
        "    def __init__(self, username, name, sex, address, mail, jobs, id):\n",
        "        self.username = username\n",
        "        self.name = name\n",
        "        self.sex = sex\n",
        "        self.address = address\n",
        "        self.mail = mail\n",
        "        self.jobs = jobs\n",
        "        self.id = id\n",
        "\n",
        "    def __str__(self) -> str:\n",
        "        jobs_str = \", \".join(self.jobs)\n",
        "        return f\"\\nId: {self.id}\\nUsername: {self.username}\\nName: {self.name}\\nSex: {self.sex}\\naddress: {self.address}\\nmail: {self.mail}\\njobs: {jobs_str}\\n\\n#########################\"\n",
        "\n",
        "\n",
        "with open(\"./data/contributors_sample.json\", \"r\", encoding=\"utf8\") as f:\n",
        "    data = json.load(f)\n",
        "\n",
        "user_l = []\n",
        "for i in data:\n",
        "    user_l.append(User(**i))\n",
        "\n",
        "for usr in user_l[:3]:\n",
        "    print(usr)\n"
      ],
      "outputs": [
        {
          "output_type": "stream",
          "name": "stdout",
          "text": [
            "\n",
            "Id: 35193\n",
            "Username: uhebert\n",
            "Name: Lindsey Nguyen\n",
            "Sex: F\n",
            "address: 01261 Cameron Spring\n",
            "Taylorfurt, AK 97791\n",
            "mail: jsalazar@gmail.com\n",
            "jobs: Energy engineer, Engineer, site, Environmental health practitioner, Biomedical scientist, Jewellery designer\n",
            "\n",
            "#########################\n",
            "\n",
            "Id: 91970\n",
            "Username: vickitaylor\n",
            "Name: Cheryl Lewis\n",
            "Sex: F\n",
            "address: 66992 Welch Brooks\n",
            "Marshallshire, ID 56004\n",
            "mail: bhudson@gmail.com\n",
            "jobs: Music therapist, Volunteer coordinator, Designer, interior/spatial\n",
            "\n",
            "#########################\n",
            "\n",
            "Id: 1848091\n",
            "Username: sheilaadams\n",
            "Name: Julia Allen\n",
            "Sex: F\n",
            "address: Unit 1632 Box 2971\n",
            "DPO AE 23297\n",
            "mail: darren44@yahoo.com\n",
            "jobs: Management consultant, Engineer, structural, Lecturer, higher education, Theatre manager, Designer, textile\n",
            "\n",
            "#########################\n"
          ]
        }
      ],
      "metadata": {
        "colab": {
          "base_uri": "https://localhost:8080/"
        },
        "id": "G03eOsSl10t6",
        "outputId": "37278f05-7f60-4a36-d55b-f3cc60a8a9f3"
      }
    },
    {
      "cell_type": "markdown",
      "source": [
        "1.2 Выведите уникальные почтовые домены, содержащиеся в почтовых адресах людей"
      ],
      "metadata": {
        "id": "VZSf0nGF10t7"
      }
    },
    {
      "cell_type": "code",
      "execution_count": null,
      "source": [
        "list(set([(usr.mail.split(\"@\")[1]) for usr in user_l]))"
      ],
      "outputs": [
        {
          "output_type": "execute_result",
          "data": {
            "text/plain": [
              "['hotmail.com', 'gmail.com', 'yahoo.com']"
            ]
          },
          "metadata": {},
          "execution_count": 3
        }
      ],
      "metadata": {
        "colab": {
          "base_uri": "https://localhost:8080/"
        },
        "id": "VAkCMF4X10t7",
        "outputId": "7e7a9825-e476-43c2-f760-55f737d28df9"
      }
    },
    {
      "cell_type": "markdown",
      "source": [
        "1.3 Напишите функцию, которая по `username` ищет человека и выводит информацию о нем. Если пользователь с заданным `username` отсутствует, возбудите исключение `ValueError`"
      ],
      "metadata": {
        "id": "cFxHHE_g10t7"
      }
    },
    {
      "cell_type": "code",
      "execution_count": null,
      "source": [
        "\n",
        "def find_by_username(usr_name):\n",
        "    c = 0\n",
        "    for i in data:\n",
        "        if usr_name == i[\"username\"]:\n",
        "            print(i[\"username\"])\n",
        "            c += 1\n",
        "    if c == 0:\n",
        "        print(\"user not found\")\n"
      ],
      "outputs": [],
      "metadata": {
        "id": "t6M2__7610t8"
      }
    },
    {
      "cell_type": "markdown",
      "source": [
        "1.4 Посчитайте, сколько мужчин и женщин присутсвует в этом наборе данных."
      ],
      "metadata": {
        "id": "8oo-HuWw10t8"
      }
    },
    {
      "cell_type": "code",
      "execution_count": null,
      "source": [
        "def male_female():\n",
        "    m, f = 0, 0\n",
        "    for i in data:\n",
        "        if i[\"sex\"] == \"M\":\n",
        "            m += 1\n",
        "        else:\n",
        "            f += 1\n",
        "    return f\"мужчин: {m}, женщин: {f}\"\n",
        "\n",
        "male_female()"
      ],
      "outputs": [
        {
          "output_type": "execute_result",
          "data": {
            "text/plain": [
              "'мужчин: 2064, женщин: 2136'"
            ],
            "application/vnd.google.colaboratory.intrinsic+json": {
              "type": "string"
            }
          },
          "metadata": {},
          "execution_count": 6
        }
      ],
      "metadata": {
        "colab": {
          "base_uri": "https://localhost:8080/",
          "height": 35
        },
        "id": "x1GJwQUb10t8",
        "outputId": "8cb5998b-7d7d-4b08-ef22-70dc32718107"
      }
    },
    {
      "cell_type": "markdown",
      "source": [
        "1.5 Создайте `pd.DataFrame` `contributors`, имеющий столбцы `id`, `username` и `sex`."
      ],
      "metadata": {
        "id": "BO1GbKM210t9"
      }
    },
    {
      "cell_type": "code",
      "execution_count": null,
      "source": [
        "contributors = pd.read_json(\"./data/contributors_sample.json\").drop([\"name\", \"address\", \"mail\", \"jobs\"], axis=1)\n",
        "col = contributors.pop(\"id\")\n",
        "contributors.insert(0, col.name, col)\n",
        "print(contributors)"
      ],
      "outputs": [
        {
          "output_type": "stream",
          "name": "stdout",
          "text": [
            "           id       username sex\n",
            "0       35193        uhebert   F\n",
            "1       91970    vickitaylor   F\n",
            "2     1848091    sheilaadams   F\n",
            "3       50969       nicole82   F\n",
            "4      676820         jean67   M\n",
            "...       ...            ...  ..\n",
            "4195   423555  stevenspencer   F\n",
            "4196    35251      rwilliams   M\n",
            "4197   135887      lmartinez   F\n",
            "4198   212714     brendahill   M\n",
            "4199   344321       mistyray   F\n",
            "\n",
            "[4200 rows x 3 columns]\n"
          ]
        }
      ],
      "metadata": {
        "colab": {
          "base_uri": "https://localhost:8080/"
        },
        "id": "AVKpzSsQ10t9",
        "outputId": "ff2f2495-bd90-44bf-9bee-d8b491efec20"
      }
    },
    {
      "cell_type": "markdown",
      "source": [
        "1.6 Загрузите данные из файла `recipes_sample.csv` (__ЛР2__) в таблицу `recipes`. Объедините `recipes` с таблицей `contributors` с сохранением строк в том случае, если информация о человеке отсутствует в JSON-файле. Для скольких человек информация отсутствует? "
      ],
      "metadata": {
        "id": "uJTGxGlY10t9"
      }
    },
    {
      "cell_type": "code",
      "execution_count": null,
      "source": [
        "recipes = pd.read_csv(\"./data/recipes_sample.csv\", sep=\",\")\n",
        "recipes = recipes.merge(contributors, left_on=\"contributor_id\", right_on=\"id\", how=\"left\")\n",
        "recipes = recipes[pd.isna(recipes[\"id_y\"])] # если информация отсутствует\n",
        "print(len(recipes[\"contributor_id\"].unique()))"
      ],
      "outputs": [
        {
          "output_type": "stream",
          "name": "stdout",
          "text": [
            "4204\n"
          ]
        }
      ],
      "metadata": {
        "colab": {
          "base_uri": "https://localhost:8080/"
        },
        "id": "Qs8i4Ovk10t-",
        "outputId": "947870ca-5920-4349-93d4-baf297917d41"
      }
    },
    {
      "cell_type": "markdown",
      "source": [
        "### pickle"
      ],
      "metadata": {
        "id": "IMsQM7ZP10t-"
      }
    },
    {
      "cell_type": "markdown",
      "source": [
        "2.1 На основе файла `contributors_sample.json` создайте словарь следующего вида: \n",
        "```\n",
        "{\n",
        "    должность: [список username людей, занимавших эту должность]\n",
        "}\n",
        "```"
      ],
      "metadata": {
        "id": "RaAKTHF710t-"
      }
    },
    {
      "cell_type": "code",
      "execution_count": null,
      "source": [
        "with open(\"./data/contributors_sample.json\", \"r\", encoding=\"utf8\") as f:\n",
        "    data = json.load(f)\n",
        "\n",
        "d = {}\n",
        "for i in data:\n",
        "    for job in i[\"jobs\"]:\n",
        "        if job not in d:\n",
        "            d[job] = []\n",
        "        d[job].append(i[\"username\"])\n",
        "\n",
        "\n",
        "print({k: d[k] for k in list(d)[:3]})"
      ],
      "outputs": [
        {
          "output_type": "stream",
          "name": "stdout",
          "text": [
            "{'Energy engineer': ['uhebert', 'annmoore', 'garysilva', 'martinezashley', 'sextonsheila', 'pjames', 'smithjonathan', 'wardjames', 'cwheeler', 'ucarlson', 'robert71', 'johnsontheresa', 'amanda41', 'stacey47', 'timothynelson', 'timothynelson', 'rogersmichael', 'melissa94', 'wmcdaniel', 'charles74', 'smithjennifer', 'clintonjones'], 'Engineer, site': ['uhebert', 'nancy12', 'andrea03', 'catherineross', 'wesley32', 'natalieross', 'rossdoris', 'christophersmith', 'dbooker', 'ericarobertson', 'trantricia', 'tpugh', 'jasonvelez', 'samantha36', 'brandidaniels', 'tenglish', 'reyesbrett', 'austin18', 'vjohnson', 'zmejia', 'daniel04', 'cynthia20', 'morgan15', 'avaldez', 'jessica92', 'laurieholloway', 'baileyvictoria'], 'Environmental health practitioner': ['uhebert', 'jonathanchristian', 'xjohnson', 'dsmith', 'james01', 'nancytaylor', 'ztaylor', 'andrewwoods', 'susan54', 'fmaldonado', 'james74', 'bakerjacob', 'stephanie81', 'whitejoseph', 'qolson', 'hknox', 'gonzalesdaniel', 'tranronald', 'jessegreen', 'stephanie69', 'ellisdennis', 'melaniejohnson', 'bradleyalexander', 'chadandrews', 'thomas33', 'john93', 'tanderson', 'dward', 'kathleenbarnett']}\n"
          ]
        }
      ],
      "metadata": {
        "colab": {
          "base_uri": "https://localhost:8080/"
        },
        "id": "WcWpaU9L10t-",
        "outputId": "9a29af9a-077e-4a63-e990-98c6dbe117a3"
      }
    },
    {
      "cell_type": "markdown",
      "source": [
        "2.2 Сохраните результаты в файл `job_people.pickle` и в файл `job_people.json` с использованием форматов pickle и JSON соответственно. Сравните объемы получившихся файлов. При сохранении в JSON укажите аргумент `indent`."
      ],
      "metadata": {
        "id": "c6xqhxcT10t-"
      }
    },
    {
      "cell_type": "code",
      "execution_count": null,
      "source": [
        "with open(\"./data/job_people.pickle\", \"wb\") as f:\n",
        "    pickle.dump(d, f)\n",
        "\n",
        "with open(\"./data/job_people.json\", \"w\") as f:\n",
        "    json.dump(d, f, indent=1)"
      ],
      "outputs": [],
      "metadata": {
        "id": "sMtYFXAW10t_"
      }
    },
    {
      "cell_type": "code",
      "execution_count": null,
      "source": [
        "print(\"pickle :\", os.path.getsize(\"./data/job_people.pickle\"))\n",
        "print(\"json   :\", os.path.getsize(\"./data/job_people.json\"))"
      ],
      "outputs": [
        {
          "output_type": "stream",
          "name": "stdout",
          "text": [
            "pickle : 132272\n",
            "json   : 285159\n"
          ]
        }
      ],
      "metadata": {
        "colab": {
          "base_uri": "https://localhost:8080/"
        },
        "id": "bMZOqw_U10t_",
        "outputId": "4c02cb10-e907-4b5a-aa91-415889905653"
      }
    },
    {
      "cell_type": "markdown",
      "source": [
        "2.3 Считайте файл `job_people.pickle` и продемонстрируйте, что данные считались корректно. "
      ],
      "metadata": {
        "id": "hjBj9Ui810t_"
      }
    },
    {
      "cell_type": "code",
      "execution_count": null,
      "source": [
        "with open(\"./data/job_people.pickle\", \"rb\") as f:\n",
        "    d_pickle = pickle.load(f)\n",
        "\n",
        "print({k: d_pickle[k] for k in list(d_pickle)[:3]})"
      ],
      "outputs": [
        {
          "output_type": "stream",
          "name": "stdout",
          "text": [
            "{'Energy engineer': ['uhebert', 'annmoore', 'garysilva', 'martinezashley', 'sextonsheila', 'pjames', 'smithjonathan', 'wardjames', 'cwheeler', 'ucarlson', 'robert71', 'johnsontheresa', 'amanda41', 'stacey47', 'timothynelson', 'timothynelson', 'rogersmichael', 'melissa94', 'wmcdaniel', 'charles74', 'smithjennifer', 'clintonjones'], 'Engineer, site': ['uhebert', 'nancy12', 'andrea03', 'catherineross', 'wesley32', 'natalieross', 'rossdoris', 'christophersmith', 'dbooker', 'ericarobertson', 'trantricia', 'tpugh', 'jasonvelez', 'samantha36', 'brandidaniels', 'tenglish', 'reyesbrett', 'austin18', 'vjohnson', 'zmejia', 'daniel04', 'cynthia20', 'morgan15', 'avaldez', 'jessica92', 'laurieholloway', 'baileyvictoria'], 'Environmental health practitioner': ['uhebert', 'jonathanchristian', 'xjohnson', 'dsmith', 'james01', 'nancytaylor', 'ztaylor', 'andrewwoods', 'susan54', 'fmaldonado', 'james74', 'bakerjacob', 'stephanie81', 'whitejoseph', 'qolson', 'hknox', 'gonzalesdaniel', 'tranronald', 'jessegreen', 'stephanie69', 'ellisdennis', 'melaniejohnson', 'bradleyalexander', 'chadandrews', 'thomas33', 'john93', 'tanderson', 'dward', 'kathleenbarnett']}\n"
          ]
        }
      ],
      "metadata": {
        "colab": {
          "base_uri": "https://localhost:8080/"
        },
        "id": "qxS7sYJK10t_",
        "outputId": "e2a25fb1-92a1-4088-a29c-a44690c27026"
      }
    },
    {
      "cell_type": "markdown",
      "source": [
        "### XML"
      ],
      "metadata": {
        "id": "TnbcN2uL10t_"
      }
    },
    {
      "cell_type": "markdown",
      "source": [
        "3.1 По данным файла `steps_sample.xml` сформируйте словарь с шагами по каждому рецепту вида `{id_рецепта: [\"шаг1\", \"шаг2\"]}`. Сохраните этот словарь в файл `steps_sample.json`"
      ],
      "metadata": {
        "id": "iVdLyRwx10t_"
      }
    },
    {
      "cell_type": "code",
      "execution_count": null,
      "source": [
        "from bs4 import BeautifulSoup\n",
        "\n",
        "with open(\"./data/steps_sample.xml\", \"r\") as f:\n",
        "    data_xml = BeautifulSoup(f)"
      ],
      "outputs": [
        {
          "output_type": "stream",
          "name": "stderr",
          "text": [
            "/usr/local/lib/python3.10/dist-packages/bs4/builder/__init__.py:545: XMLParsedAsHTMLWarning: It looks like you're parsing an XML document using an HTML parser. If this really is an HTML document (maybe it's XHTML?), you can ignore or filter this warning. If it's XML, you should know that using an XML parser will be more reliable. To parse this document as XML, make sure you have the lxml package installed, and pass the keyword argument `features=\"xml\"` into the BeautifulSoup constructor.\n",
            "  warnings.warn(\n"
          ]
        }
      ],
      "metadata": {
        "colab": {
          "base_uri": "https://localhost:8080/"
        },
        "id": "mcjmSewk10t_",
        "outputId": "53822643-7e4b-4ada-a6c4-58b2dd5c6f5c"
      }
    },
    {
      "cell_type": "code",
      "execution_count": null,
      "source": [
        "cook = {}\n",
        "\n",
        "for recipe in data_xml.find_all(\"recipe\"):\n",
        "    id = recipe.find(\"id\")\n",
        "    if id.text not in cook:\n",
        "        cook[id.text] = []\n",
        "    for step in recipe.find_all(\"step\"):\n",
        "        cook[id.text].append(step.text)\n",
        "\n",
        "with open(\"./data/steps_sample.json\", \"w\") as f:\n",
        "    json.dump(cook, f, indent=1)\n"
      ],
      "outputs": [],
      "metadata": {
        "id": "CVUT1Hnp10t_"
      }
    },
    {
      "cell_type": "markdown",
      "source": [
        "3.2 По данным файла `steps_sample.xml` сформируйте словарь следующего вида: `кол-во_шагов_в_рецепте: [список_id_рецептов]`"
      ],
      "metadata": {
        "id": "8mpqQcVO10uA"
      }
    },
    {
      "cell_type": "code",
      "execution_count": null,
      "source": [
        "step_recipe = {}\n",
        "for recipe in data_xml.find_all(\"recipe\"):\n",
        "    step_count = len(recipe.find_all(\"step\"))\n",
        "    if step_count not in step_recipe:\n",
        "        step_recipe[step_count] = []\n",
        "    step_recipe[step_count].append(recipe.find(\"id\").text)"
      ],
      "outputs": [],
      "metadata": {
        "id": "K1gxAHcG10uA"
      }
    },
    {
      "cell_type": "markdown",
      "source": [
        "3.3 Получите список рецептов, в этапах выполнения которых есть информация о времени (часы или минуты). Для отбора подходящих рецептов обратите внимание на атрибуты соответствующих тэгов."
      ],
      "metadata": {
        "id": "0FkVWxaH10uA"
      }
    },
    {
      "cell_type": "code",
      "execution_count": null,
      "source": [
        "recipes_with_time_info = []\n",
        "\n",
        "for recipe in data_xml.find_all(\"recipe\"):\n",
        "    for step in recipe.find_all(\"step\"):\n",
        "        \n",
        "        if \"has_minutes\" in step.attrs or \"has_hours\" in step.attrs:\n",
        "            recipes_with_time_info.append(recipe.find(\"id\").text)\n",
        "            break\n",
        "\n",
        "\n",
        "print(recipes_with_time_info[:5])"
      ],
      "outputs": [
        {
          "output_type": "stream",
          "name": "stdout",
          "text": [
            "['44123', '35173', '453467', '306168', '50662']\n"
          ]
        }
      ],
      "metadata": {
        "colab": {
          "base_uri": "https://localhost:8080/"
        },
        "id": "s7o6oXcv10uE",
        "outputId": "285539c6-bc64-431c-ee6f-b814f305f25d"
      }
    },
    {
      "cell_type": "markdown",
      "source": [
        "3.4 Загрузите данные из файла `recipes_sample.csv` (__ЛР2__) в таблицу `recipes`. Для строк, которые содержат пропуски в столбце `n_steps`, заполните этот столбец на основе файла  `steps_sample.xml`. Строки, в которых столбец `n_steps` заполнен, оставьте без изменений."
      ],
      "metadata": {
        "id": "8YWWDItA10uE"
      }
    },
    {
      "cell_type": "code",
      "execution_count": null,
      "source": [
        "import numpy as np\n",
        "\n",
        "recipes = pd.read_csv(\"./data/recipes_sample.csv\", sep=',')\n",
        "\n",
        "for recipe in data_xml.find_all(\"recipe\"):\n",
        "    id = int(recipe.find(\"id\").text)\n",
        "    if np.isnan(recipes[recipes[\"id\"] == id][\"n_steps\"].values[0]):\n",
        "        recipes.loc[recipes.id == id, \"n_steps\"] = len(\n",
        "            recipe.find_all(\"step\"))\n"
      ],
      "outputs": [],
      "metadata": {
        "id": "MulohTXx10uE"
      }
    },
    {
      "cell_type": "markdown",
      "source": [
        "3.5 Проверьте, содержит ли столбец `n_steps` пропуски. Если нет, то преобразуйте его к целочисленному типу и сохраните результаты в файл `recipes_sample_with_filled_nsteps.csv`"
      ],
      "metadata": {
        "id": "ss5FCEpo10uE"
      }
    },
    {
      "cell_type": "code",
      "execution_count": null,
      "source": [
        "import numpy as np\n",
        "if recipes[\"n_steps\"].isna().sum() == 0:\n",
        "    recipes[\"n_steps\"] = recipes[\"n_steps\"].astype(np.int)\n",
        "    recipes.to_csv(\"./data/recipes_sample_with_filled_nsteps.csv\", index=False)"
      ],
      "outputs": [],
      "metadata": {
        "id": "bz-4Pc8m10uE"
      }
    }
  ],
  "metadata": {
    "kernelspec": {
      "name": "python3",
      "display_name": "Python 3.7.0 64-bit"
    },
    "language_info": {
      "codemirror_mode": {
        "name": "ipython",
        "version": 3
      },
      "file_extension": ".py",
      "mimetype": "text/x-python",
      "name": "python",
      "nbconvert_exporter": "python",
      "pygments_lexer": "ipython3",
      "version": "3.7.0"
    },
    "interpreter": {
      "hash": "aee8b7b246df8f9039afb4144a1f6fd8d2ca17a180786b69acc140d282b71a49"
    },
    "colab": {
      "provenance": []
    }
  },
  "nbformat": 4,
  "nbformat_minor": 0
}